{
  "nbformat": 4,
  "nbformat_minor": 0,
  "metadata": {
    "colab": {
      "provenance": []
    },
    "kernelspec": {
      "name": "python3",
      "display_name": "Python 3"
    },
    "language_info": {
      "name": "python"
    },
    "widgets": {
      "application/vnd.jupyter.widget-state+json": {
        "20005dba41104c5eb93836ffde08ffb3": {
          "model_module": "@jupyter-widgets/controls",
          "model_name": "HBoxModel",
          "model_module_version": "1.5.0",
          "state": {
            "_dom_classes": [],
            "_model_module": "@jupyter-widgets/controls",
            "_model_module_version": "1.5.0",
            "_model_name": "HBoxModel",
            "_view_count": null,
            "_view_module": "@jupyter-widgets/controls",
            "_view_module_version": "1.5.0",
            "_view_name": "HBoxView",
            "box_style": "",
            "children": [
              "IPY_MODEL_6bfce3099e214f46afb3be9cffbba243",
              "IPY_MODEL_55fa23e498f8416bad7409c53ca1468a",
              "IPY_MODEL_a6cda64b6dfd462e90ccc9c012fb4ef0"
            ],
            "layout": "IPY_MODEL_76dab20cdbbc40ab902353f92567d9c3"
          }
        },
        "6bfce3099e214f46afb3be9cffbba243": {
          "model_module": "@jupyter-widgets/controls",
          "model_name": "HTMLModel",
          "model_module_version": "1.5.0",
          "state": {
            "_dom_classes": [],
            "_model_module": "@jupyter-widgets/controls",
            "_model_module_version": "1.5.0",
            "_model_name": "HTMLModel",
            "_view_count": null,
            "_view_module": "@jupyter-widgets/controls",
            "_view_module_version": "1.5.0",
            "_view_name": "HTMLView",
            "description": "",
            "description_tooltip": null,
            "layout": "IPY_MODEL_6bc9fbaeb1b743408ef208a90ec40002",
            "placeholder": "​",
            "style": "IPY_MODEL_5e0083467ba64f66848b56b758d7d5e6",
            "value": "tokenizer_config.json: 100%"
          }
        },
        "55fa23e498f8416bad7409c53ca1468a": {
          "model_module": "@jupyter-widgets/controls",
          "model_name": "FloatProgressModel",
          "model_module_version": "1.5.0",
          "state": {
            "_dom_classes": [],
            "_model_module": "@jupyter-widgets/controls",
            "_model_module_version": "1.5.0",
            "_model_name": "FloatProgressModel",
            "_view_count": null,
            "_view_module": "@jupyter-widgets/controls",
            "_view_module_version": "1.5.0",
            "_view_name": "ProgressView",
            "bar_style": "success",
            "description": "",
            "description_tooltip": null,
            "layout": "IPY_MODEL_2f74b4a1887d47d1981a6fc8128ba540",
            "max": 28,
            "min": 0,
            "orientation": "horizontal",
            "style": "IPY_MODEL_b2202920ac1d400ba65bffb23afb93bf",
            "value": 28
          }
        },
        "a6cda64b6dfd462e90ccc9c012fb4ef0": {
          "model_module": "@jupyter-widgets/controls",
          "model_name": "HTMLModel",
          "model_module_version": "1.5.0",
          "state": {
            "_dom_classes": [],
            "_model_module": "@jupyter-widgets/controls",
            "_model_module_version": "1.5.0",
            "_model_name": "HTMLModel",
            "_view_count": null,
            "_view_module": "@jupyter-widgets/controls",
            "_view_module_version": "1.5.0",
            "_view_name": "HTMLView",
            "description": "",
            "description_tooltip": null,
            "layout": "IPY_MODEL_2a4a63997a7d43e18989547eda11baf8",
            "placeholder": "​",
            "style": "IPY_MODEL_c17c1bc24761463c96561fe60c1f2b33",
            "value": " 28.0/28.0 [00:00&lt;00:00, 472B/s]"
          }
        },
        "76dab20cdbbc40ab902353f92567d9c3": {
          "model_module": "@jupyter-widgets/base",
          "model_name": "LayoutModel",
          "model_module_version": "1.2.0",
          "state": {
            "_model_module": "@jupyter-widgets/base",
            "_model_module_version": "1.2.0",
            "_model_name": "LayoutModel",
            "_view_count": null,
            "_view_module": "@jupyter-widgets/base",
            "_view_module_version": "1.2.0",
            "_view_name": "LayoutView",
            "align_content": null,
            "align_items": null,
            "align_self": null,
            "border": null,
            "bottom": null,
            "display": null,
            "flex": null,
            "flex_flow": null,
            "grid_area": null,
            "grid_auto_columns": null,
            "grid_auto_flow": null,
            "grid_auto_rows": null,
            "grid_column": null,
            "grid_gap": null,
            "grid_row": null,
            "grid_template_areas": null,
            "grid_template_columns": null,
            "grid_template_rows": null,
            "height": null,
            "justify_content": null,
            "justify_items": null,
            "left": null,
            "margin": null,
            "max_height": null,
            "max_width": null,
            "min_height": null,
            "min_width": null,
            "object_fit": null,
            "object_position": null,
            "order": null,
            "overflow": null,
            "overflow_x": null,
            "overflow_y": null,
            "padding": null,
            "right": null,
            "top": null,
            "visibility": null,
            "width": null
          }
        },
        "6bc9fbaeb1b743408ef208a90ec40002": {
          "model_module": "@jupyter-widgets/base",
          "model_name": "LayoutModel",
          "model_module_version": "1.2.0",
          "state": {
            "_model_module": "@jupyter-widgets/base",
            "_model_module_version": "1.2.0",
            "_model_name": "LayoutModel",
            "_view_count": null,
            "_view_module": "@jupyter-widgets/base",
            "_view_module_version": "1.2.0",
            "_view_name": "LayoutView",
            "align_content": null,
            "align_items": null,
            "align_self": null,
            "border": null,
            "bottom": null,
            "display": null,
            "flex": null,
            "flex_flow": null,
            "grid_area": null,
            "grid_auto_columns": null,
            "grid_auto_flow": null,
            "grid_auto_rows": null,
            "grid_column": null,
            "grid_gap": null,
            "grid_row": null,
            "grid_template_areas": null,
            "grid_template_columns": null,
            "grid_template_rows": null,
            "height": null,
            "justify_content": null,
            "justify_items": null,
            "left": null,
            "margin": null,
            "max_height": null,
            "max_width": null,
            "min_height": null,
            "min_width": null,
            "object_fit": null,
            "object_position": null,
            "order": null,
            "overflow": null,
            "overflow_x": null,
            "overflow_y": null,
            "padding": null,
            "right": null,
            "top": null,
            "visibility": null,
            "width": null
          }
        },
        "5e0083467ba64f66848b56b758d7d5e6": {
          "model_module": "@jupyter-widgets/controls",
          "model_name": "DescriptionStyleModel",
          "model_module_version": "1.5.0",
          "state": {
            "_model_module": "@jupyter-widgets/controls",
            "_model_module_version": "1.5.0",
            "_model_name": "DescriptionStyleModel",
            "_view_count": null,
            "_view_module": "@jupyter-widgets/base",
            "_view_module_version": "1.2.0",
            "_view_name": "StyleView",
            "description_width": ""
          }
        },
        "2f74b4a1887d47d1981a6fc8128ba540": {
          "model_module": "@jupyter-widgets/base",
          "model_name": "LayoutModel",
          "model_module_version": "1.2.0",
          "state": {
            "_model_module": "@jupyter-widgets/base",
            "_model_module_version": "1.2.0",
            "_model_name": "LayoutModel",
            "_view_count": null,
            "_view_module": "@jupyter-widgets/base",
            "_view_module_version": "1.2.0",
            "_view_name": "LayoutView",
            "align_content": null,
            "align_items": null,
            "align_self": null,
            "border": null,
            "bottom": null,
            "display": null,
            "flex": null,
            "flex_flow": null,
            "grid_area": null,
            "grid_auto_columns": null,
            "grid_auto_flow": null,
            "grid_auto_rows": null,
            "grid_column": null,
            "grid_gap": null,
            "grid_row": null,
            "grid_template_areas": null,
            "grid_template_columns": null,
            "grid_template_rows": null,
            "height": null,
            "justify_content": null,
            "justify_items": null,
            "left": null,
            "margin": null,
            "max_height": null,
            "max_width": null,
            "min_height": null,
            "min_width": null,
            "object_fit": null,
            "object_position": null,
            "order": null,
            "overflow": null,
            "overflow_x": null,
            "overflow_y": null,
            "padding": null,
            "right": null,
            "top": null,
            "visibility": null,
            "width": null
          }
        },
        "b2202920ac1d400ba65bffb23afb93bf": {
          "model_module": "@jupyter-widgets/controls",
          "model_name": "ProgressStyleModel",
          "model_module_version": "1.5.0",
          "state": {
            "_model_module": "@jupyter-widgets/controls",
            "_model_module_version": "1.5.0",
            "_model_name": "ProgressStyleModel",
            "_view_count": null,
            "_view_module": "@jupyter-widgets/base",
            "_view_module_version": "1.2.0",
            "_view_name": "StyleView",
            "bar_color": null,
            "description_width": ""
          }
        },
        "2a4a63997a7d43e18989547eda11baf8": {
          "model_module": "@jupyter-widgets/base",
          "model_name": "LayoutModel",
          "model_module_version": "1.2.0",
          "state": {
            "_model_module": "@jupyter-widgets/base",
            "_model_module_version": "1.2.0",
            "_model_name": "LayoutModel",
            "_view_count": null,
            "_view_module": "@jupyter-widgets/base",
            "_view_module_version": "1.2.0",
            "_view_name": "LayoutView",
            "align_content": null,
            "align_items": null,
            "align_self": null,
            "border": null,
            "bottom": null,
            "display": null,
            "flex": null,
            "flex_flow": null,
            "grid_area": null,
            "grid_auto_columns": null,
            "grid_auto_flow": null,
            "grid_auto_rows": null,
            "grid_column": null,
            "grid_gap": null,
            "grid_row": null,
            "grid_template_areas": null,
            "grid_template_columns": null,
            "grid_template_rows": null,
            "height": null,
            "justify_content": null,
            "justify_items": null,
            "left": null,
            "margin": null,
            "max_height": null,
            "max_width": null,
            "min_height": null,
            "min_width": null,
            "object_fit": null,
            "object_position": null,
            "order": null,
            "overflow": null,
            "overflow_x": null,
            "overflow_y": null,
            "padding": null,
            "right": null,
            "top": null,
            "visibility": null,
            "width": null
          }
        },
        "c17c1bc24761463c96561fe60c1f2b33": {
          "model_module": "@jupyter-widgets/controls",
          "model_name": "DescriptionStyleModel",
          "model_module_version": "1.5.0",
          "state": {
            "_model_module": "@jupyter-widgets/controls",
            "_model_module_version": "1.5.0",
            "_model_name": "DescriptionStyleModel",
            "_view_count": null,
            "_view_module": "@jupyter-widgets/base",
            "_view_module_version": "1.2.0",
            "_view_name": "StyleView",
            "description_width": ""
          }
        },
        "5f57fd083f0a4292ba56347b291541de": {
          "model_module": "@jupyter-widgets/controls",
          "model_name": "HBoxModel",
          "model_module_version": "1.5.0",
          "state": {
            "_dom_classes": [],
            "_model_module": "@jupyter-widgets/controls",
            "_model_module_version": "1.5.0",
            "_model_name": "HBoxModel",
            "_view_count": null,
            "_view_module": "@jupyter-widgets/controls",
            "_view_module_version": "1.5.0",
            "_view_name": "HBoxView",
            "box_style": "",
            "children": [
              "IPY_MODEL_7353bde17d7c4b87bced72e14812962b",
              "IPY_MODEL_f8abbba49fce405c9b2599bed78b0266",
              "IPY_MODEL_02b8f941beb0486e9be3438338324397"
            ],
            "layout": "IPY_MODEL_0489e3659f404c85b54fc50fbc1e35ae"
          }
        },
        "7353bde17d7c4b87bced72e14812962b": {
          "model_module": "@jupyter-widgets/controls",
          "model_name": "HTMLModel",
          "model_module_version": "1.5.0",
          "state": {
            "_dom_classes": [],
            "_model_module": "@jupyter-widgets/controls",
            "_model_module_version": "1.5.0",
            "_model_name": "HTMLModel",
            "_view_count": null,
            "_view_module": "@jupyter-widgets/controls",
            "_view_module_version": "1.5.0",
            "_view_name": "HTMLView",
            "description": "",
            "description_tooltip": null,
            "layout": "IPY_MODEL_6bad1a6ecc9a42edb43e7e70ae9bc56f",
            "placeholder": "​",
            "style": "IPY_MODEL_d567012d00bd492c98f811cfae78f0d1",
            "value": "vocab.txt: 100%"
          }
        },
        "f8abbba49fce405c9b2599bed78b0266": {
          "model_module": "@jupyter-widgets/controls",
          "model_name": "FloatProgressModel",
          "model_module_version": "1.5.0",
          "state": {
            "_dom_classes": [],
            "_model_module": "@jupyter-widgets/controls",
            "_model_module_version": "1.5.0",
            "_model_name": "FloatProgressModel",
            "_view_count": null,
            "_view_module": "@jupyter-widgets/controls",
            "_view_module_version": "1.5.0",
            "_view_name": "ProgressView",
            "bar_style": "success",
            "description": "",
            "description_tooltip": null,
            "layout": "IPY_MODEL_d198d274faff403abff9a09000027ffb",
            "max": 231508,
            "min": 0,
            "orientation": "horizontal",
            "style": "IPY_MODEL_89e894cadc5f4aa0aa46e12fb4bf9c30",
            "value": 231508
          }
        },
        "02b8f941beb0486e9be3438338324397": {
          "model_module": "@jupyter-widgets/controls",
          "model_name": "HTMLModel",
          "model_module_version": "1.5.0",
          "state": {
            "_dom_classes": [],
            "_model_module": "@jupyter-widgets/controls",
            "_model_module_version": "1.5.0",
            "_model_name": "HTMLModel",
            "_view_count": null,
            "_view_module": "@jupyter-widgets/controls",
            "_view_module_version": "1.5.0",
            "_view_name": "HTMLView",
            "description": "",
            "description_tooltip": null,
            "layout": "IPY_MODEL_7529ff78b4db4d698b8d8da461b1da20",
            "placeholder": "​",
            "style": "IPY_MODEL_b8f15801e59d48e09afbd482ace953c1",
            "value": " 232k/232k [00:00&lt;00:00, 4.31MB/s]"
          }
        },
        "0489e3659f404c85b54fc50fbc1e35ae": {
          "model_module": "@jupyter-widgets/base",
          "model_name": "LayoutModel",
          "model_module_version": "1.2.0",
          "state": {
            "_model_module": "@jupyter-widgets/base",
            "_model_module_version": "1.2.0",
            "_model_name": "LayoutModel",
            "_view_count": null,
            "_view_module": "@jupyter-widgets/base",
            "_view_module_version": "1.2.0",
            "_view_name": "LayoutView",
            "align_content": null,
            "align_items": null,
            "align_self": null,
            "border": null,
            "bottom": null,
            "display": null,
            "flex": null,
            "flex_flow": null,
            "grid_area": null,
            "grid_auto_columns": null,
            "grid_auto_flow": null,
            "grid_auto_rows": null,
            "grid_column": null,
            "grid_gap": null,
            "grid_row": null,
            "grid_template_areas": null,
            "grid_template_columns": null,
            "grid_template_rows": null,
            "height": null,
            "justify_content": null,
            "justify_items": null,
            "left": null,
            "margin": null,
            "max_height": null,
            "max_width": null,
            "min_height": null,
            "min_width": null,
            "object_fit": null,
            "object_position": null,
            "order": null,
            "overflow": null,
            "overflow_x": null,
            "overflow_y": null,
            "padding": null,
            "right": null,
            "top": null,
            "visibility": null,
            "width": null
          }
        },
        "6bad1a6ecc9a42edb43e7e70ae9bc56f": {
          "model_module": "@jupyter-widgets/base",
          "model_name": "LayoutModel",
          "model_module_version": "1.2.0",
          "state": {
            "_model_module": "@jupyter-widgets/base",
            "_model_module_version": "1.2.0",
            "_model_name": "LayoutModel",
            "_view_count": null,
            "_view_module": "@jupyter-widgets/base",
            "_view_module_version": "1.2.0",
            "_view_name": "LayoutView",
            "align_content": null,
            "align_items": null,
            "align_self": null,
            "border": null,
            "bottom": null,
            "display": null,
            "flex": null,
            "flex_flow": null,
            "grid_area": null,
            "grid_auto_columns": null,
            "grid_auto_flow": null,
            "grid_auto_rows": null,
            "grid_column": null,
            "grid_gap": null,
            "grid_row": null,
            "grid_template_areas": null,
            "grid_template_columns": null,
            "grid_template_rows": null,
            "height": null,
            "justify_content": null,
            "justify_items": null,
            "left": null,
            "margin": null,
            "max_height": null,
            "max_width": null,
            "min_height": null,
            "min_width": null,
            "object_fit": null,
            "object_position": null,
            "order": null,
            "overflow": null,
            "overflow_x": null,
            "overflow_y": null,
            "padding": null,
            "right": null,
            "top": null,
            "visibility": null,
            "width": null
          }
        },
        "d567012d00bd492c98f811cfae78f0d1": {
          "model_module": "@jupyter-widgets/controls",
          "model_name": "DescriptionStyleModel",
          "model_module_version": "1.5.0",
          "state": {
            "_model_module": "@jupyter-widgets/controls",
            "_model_module_version": "1.5.0",
            "_model_name": "DescriptionStyleModel",
            "_view_count": null,
            "_view_module": "@jupyter-widgets/base",
            "_view_module_version": "1.2.0",
            "_view_name": "StyleView",
            "description_width": ""
          }
        },
        "d198d274faff403abff9a09000027ffb": {
          "model_module": "@jupyter-widgets/base",
          "model_name": "LayoutModel",
          "model_module_version": "1.2.0",
          "state": {
            "_model_module": "@jupyter-widgets/base",
            "_model_module_version": "1.2.0",
            "_model_name": "LayoutModel",
            "_view_count": null,
            "_view_module": "@jupyter-widgets/base",
            "_view_module_version": "1.2.0",
            "_view_name": "LayoutView",
            "align_content": null,
            "align_items": null,
            "align_self": null,
            "border": null,
            "bottom": null,
            "display": null,
            "flex": null,
            "flex_flow": null,
            "grid_area": null,
            "grid_auto_columns": null,
            "grid_auto_flow": null,
            "grid_auto_rows": null,
            "grid_column": null,
            "grid_gap": null,
            "grid_row": null,
            "grid_template_areas": null,
            "grid_template_columns": null,
            "grid_template_rows": null,
            "height": null,
            "justify_content": null,
            "justify_items": null,
            "left": null,
            "margin": null,
            "max_height": null,
            "max_width": null,
            "min_height": null,
            "min_width": null,
            "object_fit": null,
            "object_position": null,
            "order": null,
            "overflow": null,
            "overflow_x": null,
            "overflow_y": null,
            "padding": null,
            "right": null,
            "top": null,
            "visibility": null,
            "width": null
          }
        },
        "89e894cadc5f4aa0aa46e12fb4bf9c30": {
          "model_module": "@jupyter-widgets/controls",
          "model_name": "ProgressStyleModel",
          "model_module_version": "1.5.0",
          "state": {
            "_model_module": "@jupyter-widgets/controls",
            "_model_module_version": "1.5.0",
            "_model_name": "ProgressStyleModel",
            "_view_count": null,
            "_view_module": "@jupyter-widgets/base",
            "_view_module_version": "1.2.0",
            "_view_name": "StyleView",
            "bar_color": null,
            "description_width": ""
          }
        },
        "7529ff78b4db4d698b8d8da461b1da20": {
          "model_module": "@jupyter-widgets/base",
          "model_name": "LayoutModel",
          "model_module_version": "1.2.0",
          "state": {
            "_model_module": "@jupyter-widgets/base",
            "_model_module_version": "1.2.0",
            "_model_name": "LayoutModel",
            "_view_count": null,
            "_view_module": "@jupyter-widgets/base",
            "_view_module_version": "1.2.0",
            "_view_name": "LayoutView",
            "align_content": null,
            "align_items": null,
            "align_self": null,
            "border": null,
            "bottom": null,
            "display": null,
            "flex": null,
            "flex_flow": null,
            "grid_area": null,
            "grid_auto_columns": null,
            "grid_auto_flow": null,
            "grid_auto_rows": null,
            "grid_column": null,
            "grid_gap": null,
            "grid_row": null,
            "grid_template_areas": null,
            "grid_template_columns": null,
            "grid_template_rows": null,
            "height": null,
            "justify_content": null,
            "justify_items": null,
            "left": null,
            "margin": null,
            "max_height": null,
            "max_width": null,
            "min_height": null,
            "min_width": null,
            "object_fit": null,
            "object_position": null,
            "order": null,
            "overflow": null,
            "overflow_x": null,
            "overflow_y": null,
            "padding": null,
            "right": null,
            "top": null,
            "visibility": null,
            "width": null
          }
        },
        "b8f15801e59d48e09afbd482ace953c1": {
          "model_module": "@jupyter-widgets/controls",
          "model_name": "DescriptionStyleModel",
          "model_module_version": "1.5.0",
          "state": {
            "_model_module": "@jupyter-widgets/controls",
            "_model_module_version": "1.5.0",
            "_model_name": "DescriptionStyleModel",
            "_view_count": null,
            "_view_module": "@jupyter-widgets/base",
            "_view_module_version": "1.2.0",
            "_view_name": "StyleView",
            "description_width": ""
          }
        },
        "c6e39e1de960412eae604ca54239e091": {
          "model_module": "@jupyter-widgets/controls",
          "model_name": "HBoxModel",
          "model_module_version": "1.5.0",
          "state": {
            "_dom_classes": [],
            "_model_module": "@jupyter-widgets/controls",
            "_model_module_version": "1.5.0",
            "_model_name": "HBoxModel",
            "_view_count": null,
            "_view_module": "@jupyter-widgets/controls",
            "_view_module_version": "1.5.0",
            "_view_name": "HBoxView",
            "box_style": "",
            "children": [
              "IPY_MODEL_df841781b631469aab6cf52f9f73892c",
              "IPY_MODEL_840260fb2a24433aac9d43665b5c7d16",
              "IPY_MODEL_9cd02dce22ad4bebad9e07ebfa17ba66"
            ],
            "layout": "IPY_MODEL_9f38de34f2464b698667031cda4b9498"
          }
        },
        "df841781b631469aab6cf52f9f73892c": {
          "model_module": "@jupyter-widgets/controls",
          "model_name": "HTMLModel",
          "model_module_version": "1.5.0",
          "state": {
            "_dom_classes": [],
            "_model_module": "@jupyter-widgets/controls",
            "_model_module_version": "1.5.0",
            "_model_name": "HTMLModel",
            "_view_count": null,
            "_view_module": "@jupyter-widgets/controls",
            "_view_module_version": "1.5.0",
            "_view_name": "HTMLView",
            "description": "",
            "description_tooltip": null,
            "layout": "IPY_MODEL_603170c450f04005afb67dd238d6aa18",
            "placeholder": "​",
            "style": "IPY_MODEL_350ee7b6927a4ee481331d1644bad3f2",
            "value": "tokenizer.json: 100%"
          }
        },
        "840260fb2a24433aac9d43665b5c7d16": {
          "model_module": "@jupyter-widgets/controls",
          "model_name": "FloatProgressModel",
          "model_module_version": "1.5.0",
          "state": {
            "_dom_classes": [],
            "_model_module": "@jupyter-widgets/controls",
            "_model_module_version": "1.5.0",
            "_model_name": "FloatProgressModel",
            "_view_count": null,
            "_view_module": "@jupyter-widgets/controls",
            "_view_module_version": "1.5.0",
            "_view_name": "ProgressView",
            "bar_style": "success",
            "description": "",
            "description_tooltip": null,
            "layout": "IPY_MODEL_2cff8efd2bff4779a80b6603d2238cf3",
            "max": 466062,
            "min": 0,
            "orientation": "horizontal",
            "style": "IPY_MODEL_c3777d303b7a4749b753941b5b83d6bf",
            "value": 466062
          }
        },
        "9cd02dce22ad4bebad9e07ebfa17ba66": {
          "model_module": "@jupyter-widgets/controls",
          "model_name": "HTMLModel",
          "model_module_version": "1.5.0",
          "state": {
            "_dom_classes": [],
            "_model_module": "@jupyter-widgets/controls",
            "_model_module_version": "1.5.0",
            "_model_name": "HTMLModel",
            "_view_count": null,
            "_view_module": "@jupyter-widgets/controls",
            "_view_module_version": "1.5.0",
            "_view_name": "HTMLView",
            "description": "",
            "description_tooltip": null,
            "layout": "IPY_MODEL_6c468eaa4a8845a4987a082df702bcd4",
            "placeholder": "​",
            "style": "IPY_MODEL_15a88555ba76482e9ac5c24832a0b59f",
            "value": " 466k/466k [00:00&lt;00:00, 5.80MB/s]"
          }
        },
        "9f38de34f2464b698667031cda4b9498": {
          "model_module": "@jupyter-widgets/base",
          "model_name": "LayoutModel",
          "model_module_version": "1.2.0",
          "state": {
            "_model_module": "@jupyter-widgets/base",
            "_model_module_version": "1.2.0",
            "_model_name": "LayoutModel",
            "_view_count": null,
            "_view_module": "@jupyter-widgets/base",
            "_view_module_version": "1.2.0",
            "_view_name": "LayoutView",
            "align_content": null,
            "align_items": null,
            "align_self": null,
            "border": null,
            "bottom": null,
            "display": null,
            "flex": null,
            "flex_flow": null,
            "grid_area": null,
            "grid_auto_columns": null,
            "grid_auto_flow": null,
            "grid_auto_rows": null,
            "grid_column": null,
            "grid_gap": null,
            "grid_row": null,
            "grid_template_areas": null,
            "grid_template_columns": null,
            "grid_template_rows": null,
            "height": null,
            "justify_content": null,
            "justify_items": null,
            "left": null,
            "margin": null,
            "max_height": null,
            "max_width": null,
            "min_height": null,
            "min_width": null,
            "object_fit": null,
            "object_position": null,
            "order": null,
            "overflow": null,
            "overflow_x": null,
            "overflow_y": null,
            "padding": null,
            "right": null,
            "top": null,
            "visibility": null,
            "width": null
          }
        },
        "603170c450f04005afb67dd238d6aa18": {
          "model_module": "@jupyter-widgets/base",
          "model_name": "LayoutModel",
          "model_module_version": "1.2.0",
          "state": {
            "_model_module": "@jupyter-widgets/base",
            "_model_module_version": "1.2.0",
            "_model_name": "LayoutModel",
            "_view_count": null,
            "_view_module": "@jupyter-widgets/base",
            "_view_module_version": "1.2.0",
            "_view_name": "LayoutView",
            "align_content": null,
            "align_items": null,
            "align_self": null,
            "border": null,
            "bottom": null,
            "display": null,
            "flex": null,
            "flex_flow": null,
            "grid_area": null,
            "grid_auto_columns": null,
            "grid_auto_flow": null,
            "grid_auto_rows": null,
            "grid_column": null,
            "grid_gap": null,
            "grid_row": null,
            "grid_template_areas": null,
            "grid_template_columns": null,
            "grid_template_rows": null,
            "height": null,
            "justify_content": null,
            "justify_items": null,
            "left": null,
            "margin": null,
            "max_height": null,
            "max_width": null,
            "min_height": null,
            "min_width": null,
            "object_fit": null,
            "object_position": null,
            "order": null,
            "overflow": null,
            "overflow_x": null,
            "overflow_y": null,
            "padding": null,
            "right": null,
            "top": null,
            "visibility": null,
            "width": null
          }
        },
        "350ee7b6927a4ee481331d1644bad3f2": {
          "model_module": "@jupyter-widgets/controls",
          "model_name": "DescriptionStyleModel",
          "model_module_version": "1.5.0",
          "state": {
            "_model_module": "@jupyter-widgets/controls",
            "_model_module_version": "1.5.0",
            "_model_name": "DescriptionStyleModel",
            "_view_count": null,
            "_view_module": "@jupyter-widgets/base",
            "_view_module_version": "1.2.0",
            "_view_name": "StyleView",
            "description_width": ""
          }
        },
        "2cff8efd2bff4779a80b6603d2238cf3": {
          "model_module": "@jupyter-widgets/base",
          "model_name": "LayoutModel",
          "model_module_version": "1.2.0",
          "state": {
            "_model_module": "@jupyter-widgets/base",
            "_model_module_version": "1.2.0",
            "_model_name": "LayoutModel",
            "_view_count": null,
            "_view_module": "@jupyter-widgets/base",
            "_view_module_version": "1.2.0",
            "_view_name": "LayoutView",
            "align_content": null,
            "align_items": null,
            "align_self": null,
            "border": null,
            "bottom": null,
            "display": null,
            "flex": null,
            "flex_flow": null,
            "grid_area": null,
            "grid_auto_columns": null,
            "grid_auto_flow": null,
            "grid_auto_rows": null,
            "grid_column": null,
            "grid_gap": null,
            "grid_row": null,
            "grid_template_areas": null,
            "grid_template_columns": null,
            "grid_template_rows": null,
            "height": null,
            "justify_content": null,
            "justify_items": null,
            "left": null,
            "margin": null,
            "max_height": null,
            "max_width": null,
            "min_height": null,
            "min_width": null,
            "object_fit": null,
            "object_position": null,
            "order": null,
            "overflow": null,
            "overflow_x": null,
            "overflow_y": null,
            "padding": null,
            "right": null,
            "top": null,
            "visibility": null,
            "width": null
          }
        },
        "c3777d303b7a4749b753941b5b83d6bf": {
          "model_module": "@jupyter-widgets/controls",
          "model_name": "ProgressStyleModel",
          "model_module_version": "1.5.0",
          "state": {
            "_model_module": "@jupyter-widgets/controls",
            "_model_module_version": "1.5.0",
            "_model_name": "ProgressStyleModel",
            "_view_count": null,
            "_view_module": "@jupyter-widgets/base",
            "_view_module_version": "1.2.0",
            "_view_name": "StyleView",
            "bar_color": null,
            "description_width": ""
          }
        },
        "6c468eaa4a8845a4987a082df702bcd4": {
          "model_module": "@jupyter-widgets/base",
          "model_name": "LayoutModel",
          "model_module_version": "1.2.0",
          "state": {
            "_model_module": "@jupyter-widgets/base",
            "_model_module_version": "1.2.0",
            "_model_name": "LayoutModel",
            "_view_count": null,
            "_view_module": "@jupyter-widgets/base",
            "_view_module_version": "1.2.0",
            "_view_name": "LayoutView",
            "align_content": null,
            "align_items": null,
            "align_self": null,
            "border": null,
            "bottom": null,
            "display": null,
            "flex": null,
            "flex_flow": null,
            "grid_area": null,
            "grid_auto_columns": null,
            "grid_auto_flow": null,
            "grid_auto_rows": null,
            "grid_column": null,
            "grid_gap": null,
            "grid_row": null,
            "grid_template_areas": null,
            "grid_template_columns": null,
            "grid_template_rows": null,
            "height": null,
            "justify_content": null,
            "justify_items": null,
            "left": null,
            "margin": null,
            "max_height": null,
            "max_width": null,
            "min_height": null,
            "min_width": null,
            "object_fit": null,
            "object_position": null,
            "order": null,
            "overflow": null,
            "overflow_x": null,
            "overflow_y": null,
            "padding": null,
            "right": null,
            "top": null,
            "visibility": null,
            "width": null
          }
        },
        "15a88555ba76482e9ac5c24832a0b59f": {
          "model_module": "@jupyter-widgets/controls",
          "model_name": "DescriptionStyleModel",
          "model_module_version": "1.5.0",
          "state": {
            "_model_module": "@jupyter-widgets/controls",
            "_model_module_version": "1.5.0",
            "_model_name": "DescriptionStyleModel",
            "_view_count": null,
            "_view_module": "@jupyter-widgets/base",
            "_view_module_version": "1.2.0",
            "_view_name": "StyleView",
            "description_width": ""
          }
        },
        "86e9c67ef187420ca742c4dff7a420f8": {
          "model_module": "@jupyter-widgets/controls",
          "model_name": "HBoxModel",
          "model_module_version": "1.5.0",
          "state": {
            "_dom_classes": [],
            "_model_module": "@jupyter-widgets/controls",
            "_model_module_version": "1.5.0",
            "_model_name": "HBoxModel",
            "_view_count": null,
            "_view_module": "@jupyter-widgets/controls",
            "_view_module_version": "1.5.0",
            "_view_name": "HBoxView",
            "box_style": "",
            "children": [
              "IPY_MODEL_96042216cc454b60ab034ba295a38331",
              "IPY_MODEL_41a168a6f8974944bff93dcbd6da1c60",
              "IPY_MODEL_3238b466506341a0910d9a2596dcb261"
            ],
            "layout": "IPY_MODEL_aa6ffa9a402645889568cdd21b6ca278"
          }
        },
        "96042216cc454b60ab034ba295a38331": {
          "model_module": "@jupyter-widgets/controls",
          "model_name": "HTMLModel",
          "model_module_version": "1.5.0",
          "state": {
            "_dom_classes": [],
            "_model_module": "@jupyter-widgets/controls",
            "_model_module_version": "1.5.0",
            "_model_name": "HTMLModel",
            "_view_count": null,
            "_view_module": "@jupyter-widgets/controls",
            "_view_module_version": "1.5.0",
            "_view_name": "HTMLView",
            "description": "",
            "description_tooltip": null,
            "layout": "IPY_MODEL_88666f063a614bfabe499fc38fe2f1d7",
            "placeholder": "​",
            "style": "IPY_MODEL_05093cec9df2429e92b70c4b12764aae",
            "value": "config.json: 100%"
          }
        },
        "41a168a6f8974944bff93dcbd6da1c60": {
          "model_module": "@jupyter-widgets/controls",
          "model_name": "FloatProgressModel",
          "model_module_version": "1.5.0",
          "state": {
            "_dom_classes": [],
            "_model_module": "@jupyter-widgets/controls",
            "_model_module_version": "1.5.0",
            "_model_name": "FloatProgressModel",
            "_view_count": null,
            "_view_module": "@jupyter-widgets/controls",
            "_view_module_version": "1.5.0",
            "_view_name": "ProgressView",
            "bar_style": "success",
            "description": "",
            "description_tooltip": null,
            "layout": "IPY_MODEL_976582f477484f32b10f9f25b7947ebc",
            "max": 570,
            "min": 0,
            "orientation": "horizontal",
            "style": "IPY_MODEL_6ed0740cd20a4899bb1e9b0f5d10ad88",
            "value": 570
          }
        },
        "3238b466506341a0910d9a2596dcb261": {
          "model_module": "@jupyter-widgets/controls",
          "model_name": "HTMLModel",
          "model_module_version": "1.5.0",
          "state": {
            "_dom_classes": [],
            "_model_module": "@jupyter-widgets/controls",
            "_model_module_version": "1.5.0",
            "_model_name": "HTMLModel",
            "_view_count": null,
            "_view_module": "@jupyter-widgets/controls",
            "_view_module_version": "1.5.0",
            "_view_name": "HTMLView",
            "description": "",
            "description_tooltip": null,
            "layout": "IPY_MODEL_d23d55f29055437d86965f260be85518",
            "placeholder": "​",
            "style": "IPY_MODEL_0ab36337ac844306808f08e0dd7a6740",
            "value": " 570/570 [00:00&lt;00:00, 13.1kB/s]"
          }
        },
        "aa6ffa9a402645889568cdd21b6ca278": {
          "model_module": "@jupyter-widgets/base",
          "model_name": "LayoutModel",
          "model_module_version": "1.2.0",
          "state": {
            "_model_module": "@jupyter-widgets/base",
            "_model_module_version": "1.2.0",
            "_model_name": "LayoutModel",
            "_view_count": null,
            "_view_module": "@jupyter-widgets/base",
            "_view_module_version": "1.2.0",
            "_view_name": "LayoutView",
            "align_content": null,
            "align_items": null,
            "align_self": null,
            "border": null,
            "bottom": null,
            "display": null,
            "flex": null,
            "flex_flow": null,
            "grid_area": null,
            "grid_auto_columns": null,
            "grid_auto_flow": null,
            "grid_auto_rows": null,
            "grid_column": null,
            "grid_gap": null,
            "grid_row": null,
            "grid_template_areas": null,
            "grid_template_columns": null,
            "grid_template_rows": null,
            "height": null,
            "justify_content": null,
            "justify_items": null,
            "left": null,
            "margin": null,
            "max_height": null,
            "max_width": null,
            "min_height": null,
            "min_width": null,
            "object_fit": null,
            "object_position": null,
            "order": null,
            "overflow": null,
            "overflow_x": null,
            "overflow_y": null,
            "padding": null,
            "right": null,
            "top": null,
            "visibility": null,
            "width": null
          }
        },
        "88666f063a614bfabe499fc38fe2f1d7": {
          "model_module": "@jupyter-widgets/base",
          "model_name": "LayoutModel",
          "model_module_version": "1.2.0",
          "state": {
            "_model_module": "@jupyter-widgets/base",
            "_model_module_version": "1.2.0",
            "_model_name": "LayoutModel",
            "_view_count": null,
            "_view_module": "@jupyter-widgets/base",
            "_view_module_version": "1.2.0",
            "_view_name": "LayoutView",
            "align_content": null,
            "align_items": null,
            "align_self": null,
            "border": null,
            "bottom": null,
            "display": null,
            "flex": null,
            "flex_flow": null,
            "grid_area": null,
            "grid_auto_columns": null,
            "grid_auto_flow": null,
            "grid_auto_rows": null,
            "grid_column": null,
            "grid_gap": null,
            "grid_row": null,
            "grid_template_areas": null,
            "grid_template_columns": null,
            "grid_template_rows": null,
            "height": null,
            "justify_content": null,
            "justify_items": null,
            "left": null,
            "margin": null,
            "max_height": null,
            "max_width": null,
            "min_height": null,
            "min_width": null,
            "object_fit": null,
            "object_position": null,
            "order": null,
            "overflow": null,
            "overflow_x": null,
            "overflow_y": null,
            "padding": null,
            "right": null,
            "top": null,
            "visibility": null,
            "width": null
          }
        },
        "05093cec9df2429e92b70c4b12764aae": {
          "model_module": "@jupyter-widgets/controls",
          "model_name": "DescriptionStyleModel",
          "model_module_version": "1.5.0",
          "state": {
            "_model_module": "@jupyter-widgets/controls",
            "_model_module_version": "1.5.0",
            "_model_name": "DescriptionStyleModel",
            "_view_count": null,
            "_view_module": "@jupyter-widgets/base",
            "_view_module_version": "1.2.0",
            "_view_name": "StyleView",
            "description_width": ""
          }
        },
        "976582f477484f32b10f9f25b7947ebc": {
          "model_module": "@jupyter-widgets/base",
          "model_name": "LayoutModel",
          "model_module_version": "1.2.0",
          "state": {
            "_model_module": "@jupyter-widgets/base",
            "_model_module_version": "1.2.0",
            "_model_name": "LayoutModel",
            "_view_count": null,
            "_view_module": "@jupyter-widgets/base",
            "_view_module_version": "1.2.0",
            "_view_name": "LayoutView",
            "align_content": null,
            "align_items": null,
            "align_self": null,
            "border": null,
            "bottom": null,
            "display": null,
            "flex": null,
            "flex_flow": null,
            "grid_area": null,
            "grid_auto_columns": null,
            "grid_auto_flow": null,
            "grid_auto_rows": null,
            "grid_column": null,
            "grid_gap": null,
            "grid_row": null,
            "grid_template_areas": null,
            "grid_template_columns": null,
            "grid_template_rows": null,
            "height": null,
            "justify_content": null,
            "justify_items": null,
            "left": null,
            "margin": null,
            "max_height": null,
            "max_width": null,
            "min_height": null,
            "min_width": null,
            "object_fit": null,
            "object_position": null,
            "order": null,
            "overflow": null,
            "overflow_x": null,
            "overflow_y": null,
            "padding": null,
            "right": null,
            "top": null,
            "visibility": null,
            "width": null
          }
        },
        "6ed0740cd20a4899bb1e9b0f5d10ad88": {
          "model_module": "@jupyter-widgets/controls",
          "model_name": "ProgressStyleModel",
          "model_module_version": "1.5.0",
          "state": {
            "_model_module": "@jupyter-widgets/controls",
            "_model_module_version": "1.5.0",
            "_model_name": "ProgressStyleModel",
            "_view_count": null,
            "_view_module": "@jupyter-widgets/base",
            "_view_module_version": "1.2.0",
            "_view_name": "StyleView",
            "bar_color": null,
            "description_width": ""
          }
        },
        "d23d55f29055437d86965f260be85518": {
          "model_module": "@jupyter-widgets/base",
          "model_name": "LayoutModel",
          "model_module_version": "1.2.0",
          "state": {
            "_model_module": "@jupyter-widgets/base",
            "_model_module_version": "1.2.0",
            "_model_name": "LayoutModel",
            "_view_count": null,
            "_view_module": "@jupyter-widgets/base",
            "_view_module_version": "1.2.0",
            "_view_name": "LayoutView",
            "align_content": null,
            "align_items": null,
            "align_self": null,
            "border": null,
            "bottom": null,
            "display": null,
            "flex": null,
            "flex_flow": null,
            "grid_area": null,
            "grid_auto_columns": null,
            "grid_auto_flow": null,
            "grid_auto_rows": null,
            "grid_column": null,
            "grid_gap": null,
            "grid_row": null,
            "grid_template_areas": null,
            "grid_template_columns": null,
            "grid_template_rows": null,
            "height": null,
            "justify_content": null,
            "justify_items": null,
            "left": null,
            "margin": null,
            "max_height": null,
            "max_width": null,
            "min_height": null,
            "min_width": null,
            "object_fit": null,
            "object_position": null,
            "order": null,
            "overflow": null,
            "overflow_x": null,
            "overflow_y": null,
            "padding": null,
            "right": null,
            "top": null,
            "visibility": null,
            "width": null
          }
        },
        "0ab36337ac844306808f08e0dd7a6740": {
          "model_module": "@jupyter-widgets/controls",
          "model_name": "DescriptionStyleModel",
          "model_module_version": "1.5.0",
          "state": {
            "_model_module": "@jupyter-widgets/controls",
            "_model_module_version": "1.5.0",
            "_model_name": "DescriptionStyleModel",
            "_view_count": null,
            "_view_module": "@jupyter-widgets/base",
            "_view_module_version": "1.2.0",
            "_view_name": "StyleView",
            "description_width": ""
          }
        },
        "f20a3ec46a0943bbb0dc5be81e2d17e3": {
          "model_module": "@jupyter-widgets/controls",
          "model_name": "HBoxModel",
          "model_module_version": "1.5.0",
          "state": {
            "_dom_classes": [],
            "_model_module": "@jupyter-widgets/controls",
            "_model_module_version": "1.5.0",
            "_model_name": "HBoxModel",
            "_view_count": null,
            "_view_module": "@jupyter-widgets/controls",
            "_view_module_version": "1.5.0",
            "_view_name": "HBoxView",
            "box_style": "",
            "children": [
              "IPY_MODEL_399b1ad9aace48009f253be19bf33ef9",
              "IPY_MODEL_53526bda8a084772aa519e0328382634",
              "IPY_MODEL_0ebf9025ee2345fb82c8e7315e1b7dc1"
            ],
            "layout": "IPY_MODEL_4dfbfd3963614a7093991ff018322f32"
          }
        },
        "399b1ad9aace48009f253be19bf33ef9": {
          "model_module": "@jupyter-widgets/controls",
          "model_name": "HTMLModel",
          "model_module_version": "1.5.0",
          "state": {
            "_dom_classes": [],
            "_model_module": "@jupyter-widgets/controls",
            "_model_module_version": "1.5.0",
            "_model_name": "HTMLModel",
            "_view_count": null,
            "_view_module": "@jupyter-widgets/controls",
            "_view_module_version": "1.5.0",
            "_view_name": "HTMLView",
            "description": "",
            "description_tooltip": null,
            "layout": "IPY_MODEL_201be5308d614fa4af9068dcecae31ba",
            "placeholder": "​",
            "style": "IPY_MODEL_248449da317c458b9f6efe3ddcb35fcc",
            "value": "model.safetensors: 100%"
          }
        },
        "53526bda8a084772aa519e0328382634": {
          "model_module": "@jupyter-widgets/controls",
          "model_name": "FloatProgressModel",
          "model_module_version": "1.5.0",
          "state": {
            "_dom_classes": [],
            "_model_module": "@jupyter-widgets/controls",
            "_model_module_version": "1.5.0",
            "_model_name": "FloatProgressModel",
            "_view_count": null,
            "_view_module": "@jupyter-widgets/controls",
            "_view_module_version": "1.5.0",
            "_view_name": "ProgressView",
            "bar_style": "success",
            "description": "",
            "description_tooltip": null,
            "layout": "IPY_MODEL_f5a6f57412c84a20aa3fd226c94f1d89",
            "max": 440449768,
            "min": 0,
            "orientation": "horizontal",
            "style": "IPY_MODEL_5834f8343566497e86c4883e0dcbd38b",
            "value": 440449768
          }
        },
        "0ebf9025ee2345fb82c8e7315e1b7dc1": {
          "model_module": "@jupyter-widgets/controls",
          "model_name": "HTMLModel",
          "model_module_version": "1.5.0",
          "state": {
            "_dom_classes": [],
            "_model_module": "@jupyter-widgets/controls",
            "_model_module_version": "1.5.0",
            "_model_name": "HTMLModel",
            "_view_count": null,
            "_view_module": "@jupyter-widgets/controls",
            "_view_module_version": "1.5.0",
            "_view_name": "HTMLView",
            "description": "",
            "description_tooltip": null,
            "layout": "IPY_MODEL_13d144d9ab4940ff82c2c865d2df7837",
            "placeholder": "​",
            "style": "IPY_MODEL_14046040454c45b98b42931323a9dcdf",
            "value": " 440M/440M [00:04&lt;00:00, 105MB/s]"
          }
        },
        "4dfbfd3963614a7093991ff018322f32": {
          "model_module": "@jupyter-widgets/base",
          "model_name": "LayoutModel",
          "model_module_version": "1.2.0",
          "state": {
            "_model_module": "@jupyter-widgets/base",
            "_model_module_version": "1.2.0",
            "_model_name": "LayoutModel",
            "_view_count": null,
            "_view_module": "@jupyter-widgets/base",
            "_view_module_version": "1.2.0",
            "_view_name": "LayoutView",
            "align_content": null,
            "align_items": null,
            "align_self": null,
            "border": null,
            "bottom": null,
            "display": null,
            "flex": null,
            "flex_flow": null,
            "grid_area": null,
            "grid_auto_columns": null,
            "grid_auto_flow": null,
            "grid_auto_rows": null,
            "grid_column": null,
            "grid_gap": null,
            "grid_row": null,
            "grid_template_areas": null,
            "grid_template_columns": null,
            "grid_template_rows": null,
            "height": null,
            "justify_content": null,
            "justify_items": null,
            "left": null,
            "margin": null,
            "max_height": null,
            "max_width": null,
            "min_height": null,
            "min_width": null,
            "object_fit": null,
            "object_position": null,
            "order": null,
            "overflow": null,
            "overflow_x": null,
            "overflow_y": null,
            "padding": null,
            "right": null,
            "top": null,
            "visibility": null,
            "width": null
          }
        },
        "201be5308d614fa4af9068dcecae31ba": {
          "model_module": "@jupyter-widgets/base",
          "model_name": "LayoutModel",
          "model_module_version": "1.2.0",
          "state": {
            "_model_module": "@jupyter-widgets/base",
            "_model_module_version": "1.2.0",
            "_model_name": "LayoutModel",
            "_view_count": null,
            "_view_module": "@jupyter-widgets/base",
            "_view_module_version": "1.2.0",
            "_view_name": "LayoutView",
            "align_content": null,
            "align_items": null,
            "align_self": null,
            "border": null,
            "bottom": null,
            "display": null,
            "flex": null,
            "flex_flow": null,
            "grid_area": null,
            "grid_auto_columns": null,
            "grid_auto_flow": null,
            "grid_auto_rows": null,
            "grid_column": null,
            "grid_gap": null,
            "grid_row": null,
            "grid_template_areas": null,
            "grid_template_columns": null,
            "grid_template_rows": null,
            "height": null,
            "justify_content": null,
            "justify_items": null,
            "left": null,
            "margin": null,
            "max_height": null,
            "max_width": null,
            "min_height": null,
            "min_width": null,
            "object_fit": null,
            "object_position": null,
            "order": null,
            "overflow": null,
            "overflow_x": null,
            "overflow_y": null,
            "padding": null,
            "right": null,
            "top": null,
            "visibility": null,
            "width": null
          }
        },
        "248449da317c458b9f6efe3ddcb35fcc": {
          "model_module": "@jupyter-widgets/controls",
          "model_name": "DescriptionStyleModel",
          "model_module_version": "1.5.0",
          "state": {
            "_model_module": "@jupyter-widgets/controls",
            "_model_module_version": "1.5.0",
            "_model_name": "DescriptionStyleModel",
            "_view_count": null,
            "_view_module": "@jupyter-widgets/base",
            "_view_module_version": "1.2.0",
            "_view_name": "StyleView",
            "description_width": ""
          }
        },
        "f5a6f57412c84a20aa3fd226c94f1d89": {
          "model_module": "@jupyter-widgets/base",
          "model_name": "LayoutModel",
          "model_module_version": "1.2.0",
          "state": {
            "_model_module": "@jupyter-widgets/base",
            "_model_module_version": "1.2.0",
            "_model_name": "LayoutModel",
            "_view_count": null,
            "_view_module": "@jupyter-widgets/base",
            "_view_module_version": "1.2.0",
            "_view_name": "LayoutView",
            "align_content": null,
            "align_items": null,
            "align_self": null,
            "border": null,
            "bottom": null,
            "display": null,
            "flex": null,
            "flex_flow": null,
            "grid_area": null,
            "grid_auto_columns": null,
            "grid_auto_flow": null,
            "grid_auto_rows": null,
            "grid_column": null,
            "grid_gap": null,
            "grid_row": null,
            "grid_template_areas": null,
            "grid_template_columns": null,
            "grid_template_rows": null,
            "height": null,
            "justify_content": null,
            "justify_items": null,
            "left": null,
            "margin": null,
            "max_height": null,
            "max_width": null,
            "min_height": null,
            "min_width": null,
            "object_fit": null,
            "object_position": null,
            "order": null,
            "overflow": null,
            "overflow_x": null,
            "overflow_y": null,
            "padding": null,
            "right": null,
            "top": null,
            "visibility": null,
            "width": null
          }
        },
        "5834f8343566497e86c4883e0dcbd38b": {
          "model_module": "@jupyter-widgets/controls",
          "model_name": "ProgressStyleModel",
          "model_module_version": "1.5.0",
          "state": {
            "_model_module": "@jupyter-widgets/controls",
            "_model_module_version": "1.5.0",
            "_model_name": "ProgressStyleModel",
            "_view_count": null,
            "_view_module": "@jupyter-widgets/base",
            "_view_module_version": "1.2.0",
            "_view_name": "StyleView",
            "bar_color": null,
            "description_width": ""
          }
        },
        "13d144d9ab4940ff82c2c865d2df7837": {
          "model_module": "@jupyter-widgets/base",
          "model_name": "LayoutModel",
          "model_module_version": "1.2.0",
          "state": {
            "_model_module": "@jupyter-widgets/base",
            "_model_module_version": "1.2.0",
            "_model_name": "LayoutModel",
            "_view_count": null,
            "_view_module": "@jupyter-widgets/base",
            "_view_module_version": "1.2.0",
            "_view_name": "LayoutView",
            "align_content": null,
            "align_items": null,
            "align_self": null,
            "border": null,
            "bottom": null,
            "display": null,
            "flex": null,
            "flex_flow": null,
            "grid_area": null,
            "grid_auto_columns": null,
            "grid_auto_flow": null,
            "grid_auto_rows": null,
            "grid_column": null,
            "grid_gap": null,
            "grid_row": null,
            "grid_template_areas": null,
            "grid_template_columns": null,
            "grid_template_rows": null,
            "height": null,
            "justify_content": null,
            "justify_items": null,
            "left": null,
            "margin": null,
            "max_height": null,
            "max_width": null,
            "min_height": null,
            "min_width": null,
            "object_fit": null,
            "object_position": null,
            "order": null,
            "overflow": null,
            "overflow_x": null,
            "overflow_y": null,
            "padding": null,
            "right": null,
            "top": null,
            "visibility": null,
            "width": null
          }
        },
        "14046040454c45b98b42931323a9dcdf": {
          "model_module": "@jupyter-widgets/controls",
          "model_name": "DescriptionStyleModel",
          "model_module_version": "1.5.0",
          "state": {
            "_model_module": "@jupyter-widgets/controls",
            "_model_module_version": "1.5.0",
            "_model_name": "DescriptionStyleModel",
            "_view_count": null,
            "_view_module": "@jupyter-widgets/base",
            "_view_module_version": "1.2.0",
            "_view_name": "StyleView",
            "description_width": ""
          }
        }
      }
    }
  },
  "cells": [
    {
      "cell_type": "markdown",
      "source": [
        "# Extracting Positional Matrices from BERT:"
      ],
      "metadata": {
        "id": "WFYC_i1VX6v6"
      }
    },
    {
      "cell_type": "markdown",
      "source": [
        "## Explanation and Data Preparation:"
      ],
      "metadata": {
        "id": "4fzB1Sz0YBpH"
      }
    },
    {
      "cell_type": "markdown",
      "source": [
        "### Introduction:"
      ],
      "metadata": {
        "id": "iX9AhkFvYGnP"
      }
    },
    {
      "cell_type": "markdown",
      "source": [
        "A positional statement is a sentence of the form: ‘A is at the left of B’. Now the explicit information convoyed by this statement is that A is at the left of the B object, and this is easily represented by the vector $V(S_1)$, however, there is also another type of information, that is not explicitly stated, but that is there. This information is the inverse relation between the two objects: ‘B is at the right of A’. This type of information can seem trivial for humans, as (i would infer) it is always accounted by a different module from the language brain area.\n",
        "\n",
        "I would say that humans do not need to explicitly state the inverse information, as it is always implicitly represented by their acknowledgment of their position in the space(embodied). Indeed, humans have a body in space, and that is enough for they to always derive the inverse information in positional statements. Although we cannot say that in regard of LLMs, where the whole information available to a model must be represented by a vector.\n",
        "\n",
        "Now, if the simple case of reverse information can seem trivial. We can observe how its complexity can increase exponentially with the increase of number of statements"
      ],
      "metadata": {
        "id": "MFegwDSjYKnQ"
      }
    },
    {
      "cell_type": "markdown",
      "source": [
        "### Data Preparation:"
      ],
      "metadata": {
        "id": "-6XEkvtmYSm9"
      }
    },
    {
      "cell_type": "code",
      "source": [
        "import numpy as np\n",
        "import pandas as pd"
      ],
      "metadata": {
        "id": "yaW7URbhaNQO"
      },
      "execution_count": 1,
      "outputs": []
    },
    {
      "cell_type": "code",
      "source": [
        "pip install transformers torch"
      ],
      "metadata": {
        "id": "rBSPi0d5a8PB"
      },
      "execution_count": null,
      "outputs": []
    },
    {
      "cell_type": "code",
      "source": [
        "import torch\n",
        "from transformers import BertTokenizer, BertModel"
      ],
      "metadata": {
        "id": "0J6dA3UpbCmJ"
      },
      "execution_count": 3,
      "outputs": []
    },
    {
      "cell_type": "code",
      "execution_count": 4,
      "metadata": {
        "colab": {
          "base_uri": "https://localhost:8080/"
        },
        "id": "3v5CFx3BXdEf",
        "outputId": "aa171d59-c77b-4dd6-b19d-32a8dc294851"
      },
      "outputs": [
        {
          "output_type": "stream",
          "name": "stdout",
          "text": [
            "Drive already mounted at /content/drive; to attempt to forcibly remount, call drive.mount(\"/content/drive\", force_remount=True).\n"
          ]
        }
      ],
      "source": [
        "from google.colab import drive\n",
        "drive.mount('/content/drive')"
      ]
    },
    {
      "cell_type": "code",
      "source": [
        "sentences_data = pd.read_csv('/content/drive/MyDrive/BERT/data_bert_extraction - data_bert_extraction.csv', sep=',')"
      ],
      "metadata": {
        "id": "0jMYZ7S3aItm"
      },
      "execution_count": 5,
      "outputs": []
    },
    {
      "cell_type": "markdown",
      "source": [
        "Preparation of the dataset:"
      ],
      "metadata": {
        "id": "_L313ptzYPfU"
      }
    },
    {
      "cell_type": "code",
      "source": [
        "sentences_data['Spatial_rel'] = 'left of'"
      ],
      "metadata": {
        "id": "E3Y4B_1ZUiAn"
      },
      "execution_count": 6,
      "outputs": []
    },
    {
      "cell_type": "code",
      "source": [
        "sentences_data.loc[50:, 'Spatial_rel'] = 'right_of'"
      ],
      "metadata": {
        "id": "7hWiG0d9Y4qs"
      },
      "execution_count": 7,
      "outputs": []
    },
    {
      "cell_type": "code",
      "source": [
        "sentences_data.head()"
      ],
      "metadata": {
        "colab": {
          "base_uri": "https://localhost:8080/",
          "height": 206
        },
        "id": "HWgKAjXz9YD4",
        "outputId": "fc734cd0-785f-4857-921f-1af8ea4e8fca"
      },
      "execution_count": 8,
      "outputs": [
        {
          "output_type": "execute_result",
          "data": {
            "text/plain": [
              "                                  Sentence        Entity_1        Entity_2  \\\n",
              "0       The clock is left of the painting.       The clock    The painting   \n",
              "1          A tree is left of the building.          A tree    The building   \n",
              "2      The lamp is left of the television.        The lamp  The television   \n",
              "3        A cat is sitting left of the dog.           A cat         The dog   \n",
              "4  The coffee cup is left of the computer.  The coffee cup    the computer   \n",
              "\n",
              "  Spatial_rel  \n",
              "0     left of  \n",
              "1     left of  \n",
              "2     left of  \n",
              "3     left of  \n",
              "4     left of  "
            ],
            "text/html": [
              "\n",
              "  <div id=\"df-d019dfd1-bf9d-43ea-a843-96a091abdf3a\" class=\"colab-df-container\">\n",
              "    <div>\n",
              "<style scoped>\n",
              "    .dataframe tbody tr th:only-of-type {\n",
              "        vertical-align: middle;\n",
              "    }\n",
              "\n",
              "    .dataframe tbody tr th {\n",
              "        vertical-align: top;\n",
              "    }\n",
              "\n",
              "    .dataframe thead th {\n",
              "        text-align: right;\n",
              "    }\n",
              "</style>\n",
              "<table border=\"1\" class=\"dataframe\">\n",
              "  <thead>\n",
              "    <tr style=\"text-align: right;\">\n",
              "      <th></th>\n",
              "      <th>Sentence</th>\n",
              "      <th>Entity_1</th>\n",
              "      <th>Entity_2</th>\n",
              "      <th>Spatial_rel</th>\n",
              "    </tr>\n",
              "  </thead>\n",
              "  <tbody>\n",
              "    <tr>\n",
              "      <th>0</th>\n",
              "      <td>The clock is left of the painting.</td>\n",
              "      <td>The clock</td>\n",
              "      <td>The painting</td>\n",
              "      <td>left of</td>\n",
              "    </tr>\n",
              "    <tr>\n",
              "      <th>1</th>\n",
              "      <td>A tree is left of the building.</td>\n",
              "      <td>A tree</td>\n",
              "      <td>The building</td>\n",
              "      <td>left of</td>\n",
              "    </tr>\n",
              "    <tr>\n",
              "      <th>2</th>\n",
              "      <td>The lamp is left of the television.</td>\n",
              "      <td>The lamp</td>\n",
              "      <td>The television</td>\n",
              "      <td>left of</td>\n",
              "    </tr>\n",
              "    <tr>\n",
              "      <th>3</th>\n",
              "      <td>A cat is sitting left of the dog.</td>\n",
              "      <td>A cat</td>\n",
              "      <td>The dog</td>\n",
              "      <td>left of</td>\n",
              "    </tr>\n",
              "    <tr>\n",
              "      <th>4</th>\n",
              "      <td>The coffee cup is left of the computer.</td>\n",
              "      <td>The coffee cup</td>\n",
              "      <td>the computer</td>\n",
              "      <td>left of</td>\n",
              "    </tr>\n",
              "  </tbody>\n",
              "</table>\n",
              "</div>\n",
              "    <div class=\"colab-df-buttons\">\n",
              "\n",
              "  <div class=\"colab-df-container\">\n",
              "    <button class=\"colab-df-convert\" onclick=\"convertToInteractive('df-d019dfd1-bf9d-43ea-a843-96a091abdf3a')\"\n",
              "            title=\"Convert this dataframe to an interactive table.\"\n",
              "            style=\"display:none;\">\n",
              "\n",
              "  <svg xmlns=\"http://www.w3.org/2000/svg\" height=\"24px\" viewBox=\"0 -960 960 960\">\n",
              "    <path d=\"M120-120v-720h720v720H120Zm60-500h600v-160H180v160Zm220 220h160v-160H400v160Zm0 220h160v-160H400v160ZM180-400h160v-160H180v160Zm440 0h160v-160H620v160ZM180-180h160v-160H180v160Zm440 0h160v-160H620v160Z\"/>\n",
              "  </svg>\n",
              "    </button>\n",
              "\n",
              "  <style>\n",
              "    .colab-df-container {\n",
              "      display:flex;\n",
              "      gap: 12px;\n",
              "    }\n",
              "\n",
              "    .colab-df-convert {\n",
              "      background-color: #E8F0FE;\n",
              "      border: none;\n",
              "      border-radius: 50%;\n",
              "      cursor: pointer;\n",
              "      display: none;\n",
              "      fill: #1967D2;\n",
              "      height: 32px;\n",
              "      padding: 0 0 0 0;\n",
              "      width: 32px;\n",
              "    }\n",
              "\n",
              "    .colab-df-convert:hover {\n",
              "      background-color: #E2EBFA;\n",
              "      box-shadow: 0px 1px 2px rgba(60, 64, 67, 0.3), 0px 1px 3px 1px rgba(60, 64, 67, 0.15);\n",
              "      fill: #174EA6;\n",
              "    }\n",
              "\n",
              "    .colab-df-buttons div {\n",
              "      margin-bottom: 4px;\n",
              "    }\n",
              "\n",
              "    [theme=dark] .colab-df-convert {\n",
              "      background-color: #3B4455;\n",
              "      fill: #D2E3FC;\n",
              "    }\n",
              "\n",
              "    [theme=dark] .colab-df-convert:hover {\n",
              "      background-color: #434B5C;\n",
              "      box-shadow: 0px 1px 3px 1px rgba(0, 0, 0, 0.15);\n",
              "      filter: drop-shadow(0px 1px 2px rgba(0, 0, 0, 0.3));\n",
              "      fill: #FFFFFF;\n",
              "    }\n",
              "  </style>\n",
              "\n",
              "    <script>\n",
              "      const buttonEl =\n",
              "        document.querySelector('#df-d019dfd1-bf9d-43ea-a843-96a091abdf3a button.colab-df-convert');\n",
              "      buttonEl.style.display =\n",
              "        google.colab.kernel.accessAllowed ? 'block' : 'none';\n",
              "\n",
              "      async function convertToInteractive(key) {\n",
              "        const element = document.querySelector('#df-d019dfd1-bf9d-43ea-a843-96a091abdf3a');\n",
              "        const dataTable =\n",
              "          await google.colab.kernel.invokeFunction('convertToInteractive',\n",
              "                                                    [key], {});\n",
              "        if (!dataTable) return;\n",
              "\n",
              "        const docLinkHtml = 'Like what you see? Visit the ' +\n",
              "          '<a target=\"_blank\" href=https://colab.research.google.com/notebooks/data_table.ipynb>data table notebook</a>'\n",
              "          + ' to learn more about interactive tables.';\n",
              "        element.innerHTML = '';\n",
              "        dataTable['output_type'] = 'display_data';\n",
              "        await google.colab.output.renderOutput(dataTable, element);\n",
              "        const docLink = document.createElement('div');\n",
              "        docLink.innerHTML = docLinkHtml;\n",
              "        element.appendChild(docLink);\n",
              "      }\n",
              "    </script>\n",
              "  </div>\n",
              "\n",
              "\n",
              "<div id=\"df-cdbb5d98-ab13-4ef6-8c3a-52e1144dffe7\">\n",
              "  <button class=\"colab-df-quickchart\" onclick=\"quickchart('df-cdbb5d98-ab13-4ef6-8c3a-52e1144dffe7')\"\n",
              "            title=\"Suggest charts\"\n",
              "            style=\"display:none;\">\n",
              "\n",
              "<svg xmlns=\"http://www.w3.org/2000/svg\" height=\"24px\"viewBox=\"0 0 24 24\"\n",
              "     width=\"24px\">\n",
              "    <g>\n",
              "        <path d=\"M19 3H5c-1.1 0-2 .9-2 2v14c0 1.1.9 2 2 2h14c1.1 0 2-.9 2-2V5c0-1.1-.9-2-2-2zM9 17H7v-7h2v7zm4 0h-2V7h2v10zm4 0h-2v-4h2v4z\"/>\n",
              "    </g>\n",
              "</svg>\n",
              "  </button>\n",
              "\n",
              "<style>\n",
              "  .colab-df-quickchart {\n",
              "      --bg-color: #E8F0FE;\n",
              "      --fill-color: #1967D2;\n",
              "      --hover-bg-color: #E2EBFA;\n",
              "      --hover-fill-color: #174EA6;\n",
              "      --disabled-fill-color: #AAA;\n",
              "      --disabled-bg-color: #DDD;\n",
              "  }\n",
              "\n",
              "  [theme=dark] .colab-df-quickchart {\n",
              "      --bg-color: #3B4455;\n",
              "      --fill-color: #D2E3FC;\n",
              "      --hover-bg-color: #434B5C;\n",
              "      --hover-fill-color: #FFFFFF;\n",
              "      --disabled-bg-color: #3B4455;\n",
              "      --disabled-fill-color: #666;\n",
              "  }\n",
              "\n",
              "  .colab-df-quickchart {\n",
              "    background-color: var(--bg-color);\n",
              "    border: none;\n",
              "    border-radius: 50%;\n",
              "    cursor: pointer;\n",
              "    display: none;\n",
              "    fill: var(--fill-color);\n",
              "    height: 32px;\n",
              "    padding: 0;\n",
              "    width: 32px;\n",
              "  }\n",
              "\n",
              "  .colab-df-quickchart:hover {\n",
              "    background-color: var(--hover-bg-color);\n",
              "    box-shadow: 0 1px 2px rgba(60, 64, 67, 0.3), 0 1px 3px 1px rgba(60, 64, 67, 0.15);\n",
              "    fill: var(--button-hover-fill-color);\n",
              "  }\n",
              "\n",
              "  .colab-df-quickchart-complete:disabled,\n",
              "  .colab-df-quickchart-complete:disabled:hover {\n",
              "    background-color: var(--disabled-bg-color);\n",
              "    fill: var(--disabled-fill-color);\n",
              "    box-shadow: none;\n",
              "  }\n",
              "\n",
              "  .colab-df-spinner {\n",
              "    border: 2px solid var(--fill-color);\n",
              "    border-color: transparent;\n",
              "    border-bottom-color: var(--fill-color);\n",
              "    animation:\n",
              "      spin 1s steps(1) infinite;\n",
              "  }\n",
              "\n",
              "  @keyframes spin {\n",
              "    0% {\n",
              "      border-color: transparent;\n",
              "      border-bottom-color: var(--fill-color);\n",
              "      border-left-color: var(--fill-color);\n",
              "    }\n",
              "    20% {\n",
              "      border-color: transparent;\n",
              "      border-left-color: var(--fill-color);\n",
              "      border-top-color: var(--fill-color);\n",
              "    }\n",
              "    30% {\n",
              "      border-color: transparent;\n",
              "      border-left-color: var(--fill-color);\n",
              "      border-top-color: var(--fill-color);\n",
              "      border-right-color: var(--fill-color);\n",
              "    }\n",
              "    40% {\n",
              "      border-color: transparent;\n",
              "      border-right-color: var(--fill-color);\n",
              "      border-top-color: var(--fill-color);\n",
              "    }\n",
              "    60% {\n",
              "      border-color: transparent;\n",
              "      border-right-color: var(--fill-color);\n",
              "    }\n",
              "    80% {\n",
              "      border-color: transparent;\n",
              "      border-right-color: var(--fill-color);\n",
              "      border-bottom-color: var(--fill-color);\n",
              "    }\n",
              "    90% {\n",
              "      border-color: transparent;\n",
              "      border-bottom-color: var(--fill-color);\n",
              "    }\n",
              "  }\n",
              "</style>\n",
              "\n",
              "  <script>\n",
              "    async function quickchart(key) {\n",
              "      const quickchartButtonEl =\n",
              "        document.querySelector('#' + key + ' button');\n",
              "      quickchartButtonEl.disabled = true;  // To prevent multiple clicks.\n",
              "      quickchartButtonEl.classList.add('colab-df-spinner');\n",
              "      try {\n",
              "        const charts = await google.colab.kernel.invokeFunction(\n",
              "            'suggestCharts', [key], {});\n",
              "      } catch (error) {\n",
              "        console.error('Error during call to suggestCharts:', error);\n",
              "      }\n",
              "      quickchartButtonEl.classList.remove('colab-df-spinner');\n",
              "      quickchartButtonEl.classList.add('colab-df-quickchart-complete');\n",
              "    }\n",
              "    (() => {\n",
              "      let quickchartButtonEl =\n",
              "        document.querySelector('#df-cdbb5d98-ab13-4ef6-8c3a-52e1144dffe7 button');\n",
              "      quickchartButtonEl.style.display =\n",
              "        google.colab.kernel.accessAllowed ? 'block' : 'none';\n",
              "    })();\n",
              "  </script>\n",
              "</div>\n",
              "    </div>\n",
              "  </div>\n"
            ]
          },
          "metadata": {},
          "execution_count": 8
        }
      ]
    },
    {
      "cell_type": "markdown",
      "source": [
        "Encoding spatial relationships for Probing"
      ],
      "metadata": {
        "id": "h0i4qez76kWg"
      }
    },
    {
      "cell_type": "code",
      "source": [
        "# label encoder:\n",
        "from sklearn.preprocessing import LabelEncoder\n",
        "label_encoder = LabelEncoder()\n",
        "sentences_data['SR_label'] = label_encoder.fit_transform(sentences_data['Spatial_rel'])"
      ],
      "metadata": {
        "id": "kkLKYNA0cVnp"
      },
      "execution_count": 9,
      "outputs": []
    },
    {
      "cell_type": "code",
      "source": [
        "sentences_data.head()"
      ],
      "metadata": {
        "colab": {
          "base_uri": "https://localhost:8080/",
          "height": 206
        },
        "id": "Wyti2zUOc4FQ",
        "outputId": "10ce271d-7a9d-43d5-e7ac-2bebeb4be105"
      },
      "execution_count": 10,
      "outputs": [
        {
          "output_type": "execute_result",
          "data": {
            "text/plain": [
              "                                  Sentence        Entity_1        Entity_2  \\\n",
              "0       The clock is left of the painting.       The clock    The painting   \n",
              "1          A tree is left of the building.          A tree    The building   \n",
              "2      The lamp is left of the television.        The lamp  The television   \n",
              "3        A cat is sitting left of the dog.           A cat         The dog   \n",
              "4  The coffee cup is left of the computer.  The coffee cup    the computer   \n",
              "\n",
              "  Spatial_rel  SR_label  \n",
              "0     left of         0  \n",
              "1     left of         0  \n",
              "2     left of         0  \n",
              "3     left of         0  \n",
              "4     left of         0  "
            ],
            "text/html": [
              "\n",
              "  <div id=\"df-3bd5bba2-b3b4-422f-9978-22b5f033443b\" class=\"colab-df-container\">\n",
              "    <div>\n",
              "<style scoped>\n",
              "    .dataframe tbody tr th:only-of-type {\n",
              "        vertical-align: middle;\n",
              "    }\n",
              "\n",
              "    .dataframe tbody tr th {\n",
              "        vertical-align: top;\n",
              "    }\n",
              "\n",
              "    .dataframe thead th {\n",
              "        text-align: right;\n",
              "    }\n",
              "</style>\n",
              "<table border=\"1\" class=\"dataframe\">\n",
              "  <thead>\n",
              "    <tr style=\"text-align: right;\">\n",
              "      <th></th>\n",
              "      <th>Sentence</th>\n",
              "      <th>Entity_1</th>\n",
              "      <th>Entity_2</th>\n",
              "      <th>Spatial_rel</th>\n",
              "      <th>SR_label</th>\n",
              "    </tr>\n",
              "  </thead>\n",
              "  <tbody>\n",
              "    <tr>\n",
              "      <th>0</th>\n",
              "      <td>The clock is left of the painting.</td>\n",
              "      <td>The clock</td>\n",
              "      <td>The painting</td>\n",
              "      <td>left of</td>\n",
              "      <td>0</td>\n",
              "    </tr>\n",
              "    <tr>\n",
              "      <th>1</th>\n",
              "      <td>A tree is left of the building.</td>\n",
              "      <td>A tree</td>\n",
              "      <td>The building</td>\n",
              "      <td>left of</td>\n",
              "      <td>0</td>\n",
              "    </tr>\n",
              "    <tr>\n",
              "      <th>2</th>\n",
              "      <td>The lamp is left of the television.</td>\n",
              "      <td>The lamp</td>\n",
              "      <td>The television</td>\n",
              "      <td>left of</td>\n",
              "      <td>0</td>\n",
              "    </tr>\n",
              "    <tr>\n",
              "      <th>3</th>\n",
              "      <td>A cat is sitting left of the dog.</td>\n",
              "      <td>A cat</td>\n",
              "      <td>The dog</td>\n",
              "      <td>left of</td>\n",
              "      <td>0</td>\n",
              "    </tr>\n",
              "    <tr>\n",
              "      <th>4</th>\n",
              "      <td>The coffee cup is left of the computer.</td>\n",
              "      <td>The coffee cup</td>\n",
              "      <td>the computer</td>\n",
              "      <td>left of</td>\n",
              "      <td>0</td>\n",
              "    </tr>\n",
              "  </tbody>\n",
              "</table>\n",
              "</div>\n",
              "    <div class=\"colab-df-buttons\">\n",
              "\n",
              "  <div class=\"colab-df-container\">\n",
              "    <button class=\"colab-df-convert\" onclick=\"convertToInteractive('df-3bd5bba2-b3b4-422f-9978-22b5f033443b')\"\n",
              "            title=\"Convert this dataframe to an interactive table.\"\n",
              "            style=\"display:none;\">\n",
              "\n",
              "  <svg xmlns=\"http://www.w3.org/2000/svg\" height=\"24px\" viewBox=\"0 -960 960 960\">\n",
              "    <path d=\"M120-120v-720h720v720H120Zm60-500h600v-160H180v160Zm220 220h160v-160H400v160Zm0 220h160v-160H400v160ZM180-400h160v-160H180v160Zm440 0h160v-160H620v160ZM180-180h160v-160H180v160Zm440 0h160v-160H620v160Z\"/>\n",
              "  </svg>\n",
              "    </button>\n",
              "\n",
              "  <style>\n",
              "    .colab-df-container {\n",
              "      display:flex;\n",
              "      gap: 12px;\n",
              "    }\n",
              "\n",
              "    .colab-df-convert {\n",
              "      background-color: #E8F0FE;\n",
              "      border: none;\n",
              "      border-radius: 50%;\n",
              "      cursor: pointer;\n",
              "      display: none;\n",
              "      fill: #1967D2;\n",
              "      height: 32px;\n",
              "      padding: 0 0 0 0;\n",
              "      width: 32px;\n",
              "    }\n",
              "\n",
              "    .colab-df-convert:hover {\n",
              "      background-color: #E2EBFA;\n",
              "      box-shadow: 0px 1px 2px rgba(60, 64, 67, 0.3), 0px 1px 3px 1px rgba(60, 64, 67, 0.15);\n",
              "      fill: #174EA6;\n",
              "    }\n",
              "\n",
              "    .colab-df-buttons div {\n",
              "      margin-bottom: 4px;\n",
              "    }\n",
              "\n",
              "    [theme=dark] .colab-df-convert {\n",
              "      background-color: #3B4455;\n",
              "      fill: #D2E3FC;\n",
              "    }\n",
              "\n",
              "    [theme=dark] .colab-df-convert:hover {\n",
              "      background-color: #434B5C;\n",
              "      box-shadow: 0px 1px 3px 1px rgba(0, 0, 0, 0.15);\n",
              "      filter: drop-shadow(0px 1px 2px rgba(0, 0, 0, 0.3));\n",
              "      fill: #FFFFFF;\n",
              "    }\n",
              "  </style>\n",
              "\n",
              "    <script>\n",
              "      const buttonEl =\n",
              "        document.querySelector('#df-3bd5bba2-b3b4-422f-9978-22b5f033443b button.colab-df-convert');\n",
              "      buttonEl.style.display =\n",
              "        google.colab.kernel.accessAllowed ? 'block' : 'none';\n",
              "\n",
              "      async function convertToInteractive(key) {\n",
              "        const element = document.querySelector('#df-3bd5bba2-b3b4-422f-9978-22b5f033443b');\n",
              "        const dataTable =\n",
              "          await google.colab.kernel.invokeFunction('convertToInteractive',\n",
              "                                                    [key], {});\n",
              "        if (!dataTable) return;\n",
              "\n",
              "        const docLinkHtml = 'Like what you see? Visit the ' +\n",
              "          '<a target=\"_blank\" href=https://colab.research.google.com/notebooks/data_table.ipynb>data table notebook</a>'\n",
              "          + ' to learn more about interactive tables.';\n",
              "        element.innerHTML = '';\n",
              "        dataTable['output_type'] = 'display_data';\n",
              "        await google.colab.output.renderOutput(dataTable, element);\n",
              "        const docLink = document.createElement('div');\n",
              "        docLink.innerHTML = docLinkHtml;\n",
              "        element.appendChild(docLink);\n",
              "      }\n",
              "    </script>\n",
              "  </div>\n",
              "\n",
              "\n",
              "<div id=\"df-f7fa9334-fd3c-47b2-b37c-7e5c59c0f186\">\n",
              "  <button class=\"colab-df-quickchart\" onclick=\"quickchart('df-f7fa9334-fd3c-47b2-b37c-7e5c59c0f186')\"\n",
              "            title=\"Suggest charts\"\n",
              "            style=\"display:none;\">\n",
              "\n",
              "<svg xmlns=\"http://www.w3.org/2000/svg\" height=\"24px\"viewBox=\"0 0 24 24\"\n",
              "     width=\"24px\">\n",
              "    <g>\n",
              "        <path d=\"M19 3H5c-1.1 0-2 .9-2 2v14c0 1.1.9 2 2 2h14c1.1 0 2-.9 2-2V5c0-1.1-.9-2-2-2zM9 17H7v-7h2v7zm4 0h-2V7h2v10zm4 0h-2v-4h2v4z\"/>\n",
              "    </g>\n",
              "</svg>\n",
              "  </button>\n",
              "\n",
              "<style>\n",
              "  .colab-df-quickchart {\n",
              "      --bg-color: #E8F0FE;\n",
              "      --fill-color: #1967D2;\n",
              "      --hover-bg-color: #E2EBFA;\n",
              "      --hover-fill-color: #174EA6;\n",
              "      --disabled-fill-color: #AAA;\n",
              "      --disabled-bg-color: #DDD;\n",
              "  }\n",
              "\n",
              "  [theme=dark] .colab-df-quickchart {\n",
              "      --bg-color: #3B4455;\n",
              "      --fill-color: #D2E3FC;\n",
              "      --hover-bg-color: #434B5C;\n",
              "      --hover-fill-color: #FFFFFF;\n",
              "      --disabled-bg-color: #3B4455;\n",
              "      --disabled-fill-color: #666;\n",
              "  }\n",
              "\n",
              "  .colab-df-quickchart {\n",
              "    background-color: var(--bg-color);\n",
              "    border: none;\n",
              "    border-radius: 50%;\n",
              "    cursor: pointer;\n",
              "    display: none;\n",
              "    fill: var(--fill-color);\n",
              "    height: 32px;\n",
              "    padding: 0;\n",
              "    width: 32px;\n",
              "  }\n",
              "\n",
              "  .colab-df-quickchart:hover {\n",
              "    background-color: var(--hover-bg-color);\n",
              "    box-shadow: 0 1px 2px rgba(60, 64, 67, 0.3), 0 1px 3px 1px rgba(60, 64, 67, 0.15);\n",
              "    fill: var(--button-hover-fill-color);\n",
              "  }\n",
              "\n",
              "  .colab-df-quickchart-complete:disabled,\n",
              "  .colab-df-quickchart-complete:disabled:hover {\n",
              "    background-color: var(--disabled-bg-color);\n",
              "    fill: var(--disabled-fill-color);\n",
              "    box-shadow: none;\n",
              "  }\n",
              "\n",
              "  .colab-df-spinner {\n",
              "    border: 2px solid var(--fill-color);\n",
              "    border-color: transparent;\n",
              "    border-bottom-color: var(--fill-color);\n",
              "    animation:\n",
              "      spin 1s steps(1) infinite;\n",
              "  }\n",
              "\n",
              "  @keyframes spin {\n",
              "    0% {\n",
              "      border-color: transparent;\n",
              "      border-bottom-color: var(--fill-color);\n",
              "      border-left-color: var(--fill-color);\n",
              "    }\n",
              "    20% {\n",
              "      border-color: transparent;\n",
              "      border-left-color: var(--fill-color);\n",
              "      border-top-color: var(--fill-color);\n",
              "    }\n",
              "    30% {\n",
              "      border-color: transparent;\n",
              "      border-left-color: var(--fill-color);\n",
              "      border-top-color: var(--fill-color);\n",
              "      border-right-color: var(--fill-color);\n",
              "    }\n",
              "    40% {\n",
              "      border-color: transparent;\n",
              "      border-right-color: var(--fill-color);\n",
              "      border-top-color: var(--fill-color);\n",
              "    }\n",
              "    60% {\n",
              "      border-color: transparent;\n",
              "      border-right-color: var(--fill-color);\n",
              "    }\n",
              "    80% {\n",
              "      border-color: transparent;\n",
              "      border-right-color: var(--fill-color);\n",
              "      border-bottom-color: var(--fill-color);\n",
              "    }\n",
              "    90% {\n",
              "      border-color: transparent;\n",
              "      border-bottom-color: var(--fill-color);\n",
              "    }\n",
              "  }\n",
              "</style>\n",
              "\n",
              "  <script>\n",
              "    async function quickchart(key) {\n",
              "      const quickchartButtonEl =\n",
              "        document.querySelector('#' + key + ' button');\n",
              "      quickchartButtonEl.disabled = true;  // To prevent multiple clicks.\n",
              "      quickchartButtonEl.classList.add('colab-df-spinner');\n",
              "      try {\n",
              "        const charts = await google.colab.kernel.invokeFunction(\n",
              "            'suggestCharts', [key], {});\n",
              "      } catch (error) {\n",
              "        console.error('Error during call to suggestCharts:', error);\n",
              "      }\n",
              "      quickchartButtonEl.classList.remove('colab-df-spinner');\n",
              "      quickchartButtonEl.classList.add('colab-df-quickchart-complete');\n",
              "    }\n",
              "    (() => {\n",
              "      let quickchartButtonEl =\n",
              "        document.querySelector('#df-f7fa9334-fd3c-47b2-b37c-7e5c59c0f186 button');\n",
              "      quickchartButtonEl.style.display =\n",
              "        google.colab.kernel.accessAllowed ? 'block' : 'none';\n",
              "    })();\n",
              "  </script>\n",
              "</div>\n",
              "    </div>\n",
              "  </div>\n"
            ]
          },
          "metadata": {},
          "execution_count": 10
        }
      ]
    },
    {
      "cell_type": "code",
      "source": [
        "tokenizer = BertTokenizer.from_pretrained('bert-base-uncased')\n",
        "bert_model = BertModel.from_pretrained('bert-base-uncased', output_hidden_states = True)"
      ],
      "metadata": {
        "id": "G11a7Jy8aXhd",
        "colab": {
          "base_uri": "https://localhost:8080/",
          "height": 281,
          "referenced_widgets": [
            "20005dba41104c5eb93836ffde08ffb3",
            "6bfce3099e214f46afb3be9cffbba243",
            "55fa23e498f8416bad7409c53ca1468a",
            "a6cda64b6dfd462e90ccc9c012fb4ef0",
            "76dab20cdbbc40ab902353f92567d9c3",
            "6bc9fbaeb1b743408ef208a90ec40002",
            "5e0083467ba64f66848b56b758d7d5e6",
            "2f74b4a1887d47d1981a6fc8128ba540",
            "b2202920ac1d400ba65bffb23afb93bf",
            "2a4a63997a7d43e18989547eda11baf8",
            "c17c1bc24761463c96561fe60c1f2b33",
            "5f57fd083f0a4292ba56347b291541de",
            "7353bde17d7c4b87bced72e14812962b",
            "f8abbba49fce405c9b2599bed78b0266",
            "02b8f941beb0486e9be3438338324397",
            "0489e3659f404c85b54fc50fbc1e35ae",
            "6bad1a6ecc9a42edb43e7e70ae9bc56f",
            "d567012d00bd492c98f811cfae78f0d1",
            "d198d274faff403abff9a09000027ffb",
            "89e894cadc5f4aa0aa46e12fb4bf9c30",
            "7529ff78b4db4d698b8d8da461b1da20",
            "b8f15801e59d48e09afbd482ace953c1",
            "c6e39e1de960412eae604ca54239e091",
            "df841781b631469aab6cf52f9f73892c",
            "840260fb2a24433aac9d43665b5c7d16",
            "9cd02dce22ad4bebad9e07ebfa17ba66",
            "9f38de34f2464b698667031cda4b9498",
            "603170c450f04005afb67dd238d6aa18",
            "350ee7b6927a4ee481331d1644bad3f2",
            "2cff8efd2bff4779a80b6603d2238cf3",
            "c3777d303b7a4749b753941b5b83d6bf",
            "6c468eaa4a8845a4987a082df702bcd4",
            "15a88555ba76482e9ac5c24832a0b59f",
            "86e9c67ef187420ca742c4dff7a420f8",
            "96042216cc454b60ab034ba295a38331",
            "41a168a6f8974944bff93dcbd6da1c60",
            "3238b466506341a0910d9a2596dcb261",
            "aa6ffa9a402645889568cdd21b6ca278",
            "88666f063a614bfabe499fc38fe2f1d7",
            "05093cec9df2429e92b70c4b12764aae",
            "976582f477484f32b10f9f25b7947ebc",
            "6ed0740cd20a4899bb1e9b0f5d10ad88",
            "d23d55f29055437d86965f260be85518",
            "0ab36337ac844306808f08e0dd7a6740",
            "f20a3ec46a0943bbb0dc5be81e2d17e3",
            "399b1ad9aace48009f253be19bf33ef9",
            "53526bda8a084772aa519e0328382634",
            "0ebf9025ee2345fb82c8e7315e1b7dc1",
            "4dfbfd3963614a7093991ff018322f32",
            "201be5308d614fa4af9068dcecae31ba",
            "248449da317c458b9f6efe3ddcb35fcc",
            "f5a6f57412c84a20aa3fd226c94f1d89",
            "5834f8343566497e86c4883e0dcbd38b",
            "13d144d9ab4940ff82c2c865d2df7837",
            "14046040454c45b98b42931323a9dcdf"
          ]
        },
        "outputId": "5d53e327-7a04-473a-9f18-4448c4ca37f8"
      },
      "execution_count": 11,
      "outputs": [
        {
          "output_type": "stream",
          "name": "stderr",
          "text": [
            "/usr/local/lib/python3.10/dist-packages/huggingface_hub/utils/_token.py:88: UserWarning: \n",
            "The secret `HF_TOKEN` does not exist in your Colab secrets.\n",
            "To authenticate with the Hugging Face Hub, create a token in your settings tab (https://huggingface.co/settings/tokens), set it as secret in your Google Colab and restart your session.\n",
            "You will be able to reuse this secret in all of your notebooks.\n",
            "Please note that authentication is recommended but still optional to access public models or datasets.\n",
            "  warnings.warn(\n"
          ]
        },
        {
          "output_type": "display_data",
          "data": {
            "text/plain": [
              "tokenizer_config.json:   0%|          | 0.00/28.0 [00:00<?, ?B/s]"
            ],
            "application/vnd.jupyter.widget-view+json": {
              "version_major": 2,
              "version_minor": 0,
              "model_id": "20005dba41104c5eb93836ffde08ffb3"
            }
          },
          "metadata": {}
        },
        {
          "output_type": "display_data",
          "data": {
            "text/plain": [
              "vocab.txt:   0%|          | 0.00/232k [00:00<?, ?B/s]"
            ],
            "application/vnd.jupyter.widget-view+json": {
              "version_major": 2,
              "version_minor": 0,
              "model_id": "5f57fd083f0a4292ba56347b291541de"
            }
          },
          "metadata": {}
        },
        {
          "output_type": "display_data",
          "data": {
            "text/plain": [
              "tokenizer.json:   0%|          | 0.00/466k [00:00<?, ?B/s]"
            ],
            "application/vnd.jupyter.widget-view+json": {
              "version_major": 2,
              "version_minor": 0,
              "model_id": "c6e39e1de960412eae604ca54239e091"
            }
          },
          "metadata": {}
        },
        {
          "output_type": "display_data",
          "data": {
            "text/plain": [
              "config.json:   0%|          | 0.00/570 [00:00<?, ?B/s]"
            ],
            "application/vnd.jupyter.widget-view+json": {
              "version_major": 2,
              "version_minor": 0,
              "model_id": "86e9c67ef187420ca742c4dff7a420f8"
            }
          },
          "metadata": {}
        },
        {
          "output_type": "display_data",
          "data": {
            "text/plain": [
              "model.safetensors:   0%|          | 0.00/440M [00:00<?, ?B/s]"
            ],
            "application/vnd.jupyter.widget-view+json": {
              "version_major": 2,
              "version_minor": 0,
              "model_id": "f20a3ec46a0943bbb0dc5be81e2d17e3"
            }
          },
          "metadata": {}
        }
      ]
    },
    {
      "cell_type": "code",
      "source": [
        "def get_bert_embeddings(sentence):\n",
        "    inputs = tokenizer(sentence, return_tensors=\"pt\", padding=True, truncation=True)\n",
        "    with torch.no_grad():\n",
        "        outputs = bert_model(**inputs)\n",
        "    return outputs.last_hidden_state[:, 0, :]\n",
        "\n",
        "\n",
        "sentences_data['Bert_embeddings'] = sentences_data['Sentence'].apply(get_bert_embeddings)"
      ],
      "metadata": {
        "id": "Lp9PAbFsjRKM"
      },
      "execution_count": 12,
      "outputs": []
    },
    {
      "cell_type": "code",
      "source": [
        "from sklearn.linear_model import LogisticRegression\n",
        "from sklearn.model_selection import train_test_split\n",
        "\n",
        "X = np.vstack(sentences_data['Bert_embeddings'])\n",
        "y = sentences_data['SR_label'].values\n",
        "\n",
        "X_train, X_test, y_train, y_test = train_test_split(X, y, test_size=0.2, random_state=42)\n",
        "\n",
        "clf = LogisticRegression(random_state=0).fit(X_train, y_train)\n",
        "\n",
        "\n",
        "accuracy = clf.score(X_test, y_test)\n",
        "print(f\"Accuracy: {accuracy}\")"
      ],
      "metadata": {
        "colab": {
          "base_uri": "https://localhost:8080/"
        },
        "id": "dzSATDpXkRtQ",
        "outputId": "30c53bc6-7577-4486-a010-90e5724f9088"
      },
      "execution_count": 13,
      "outputs": [
        {
          "output_type": "stream",
          "name": "stdout",
          "text": [
            "Accuracy: 0.95\n"
          ]
        }
      ]
    },
    {
      "cell_type": "markdown",
      "source": [
        "Find the Most informative layer for spatial relationships"
      ],
      "metadata": {
        "id": "KgjV_slH6rdP"
      }
    },
    {
      "cell_type": "code",
      "source": [
        "def get_cumulative_embeddings(sentences, max_layer):\n",
        "    cumulative_embeddings = []\n",
        "    for sentence in sentences:\n",
        "        inputs = tokenizer(sentence, return_tensors=\"pt\", padding=True, truncation=True)\n",
        "        with torch.no_grad():\n",
        "            outputs = bert_model(**inputs)\n",
        "        layer_embeddings = torch.sum(torch.stack(outputs.hidden_states[:max_layer + 1]), dim=0)\n",
        "        cumulative_embeddings.append(layer_embeddings[:, 0, :])  # Using [CLS] token\n",
        "    return torch.vstack(cumulative_embeddings).numpy()\n",
        "\n",
        "scores = []\n",
        "\n",
        "for layer in range(bert_model.config.num_hidden_layers):\n",
        "\n",
        "    X = get_cumulative_embeddings(sentences_data['Sentence'], layer)\n",
        "    y = sentences_data['SR_label'].values\n",
        "\n",
        "    X_train, X_test, y_train, y_test = train_test_split(X, y, test_size=0.2, random_state=42)\n",
        "\n",
        "\n",
        "    clf = LogisticRegression(random_state=0, max_iter=1000).fit(X_train, y_train)\n",
        "\n",
        "\n",
        "    score = clf.score(X_test, y_test)\n",
        "    scores.append(score)\n",
        "    print(f\"Layer {layer + 1}, Accuracy: {score}\")\n",
        "\n",
        "\n",
        "diff_scores = [scores[i] - scores[i-1] for i in range(1, len(scores))]\n",
        "\n",
        "\n",
        "most_informative_layer = diff_scores.index(max(diff_scores)) + 1\n",
        "print(f\"Most informative layer: {most_informative_layer}\")\n"
      ],
      "metadata": {
        "colab": {
          "base_uri": "https://localhost:8080/"
        },
        "id": "3WqIoOOnlehG",
        "outputId": "d25f1044-fc1f-4555-bf83-ac5ac458db35"
      },
      "execution_count": 14,
      "outputs": [
        {
          "output_type": "stream",
          "name": "stdout",
          "text": [
            "Layer 1, Accuracy: 0.4\n",
            "Layer 2, Accuracy: 0.95\n",
            "Layer 3, Accuracy: 0.95\n",
            "Layer 4, Accuracy: 0.95\n",
            "Layer 5, Accuracy: 1.0\n",
            "Layer 6, Accuracy: 1.0\n",
            "Layer 7, Accuracy: 1.0\n",
            "Layer 8, Accuracy: 1.0\n",
            "Layer 9, Accuracy: 1.0\n",
            "Layer 10, Accuracy: 0.95\n",
            "Layer 11, Accuracy: 0.95\n",
            "Layer 12, Accuracy: 0.95\n",
            "Most informative layer: 1\n"
          ]
        }
      ]
    },
    {
      "cell_type": "markdown",
      "source": [
        "Create Embeddings from BERT"
      ],
      "metadata": {
        "id": "MiflDi7j8zpU"
      }
    },
    {
      "cell_type": "code",
      "source": [
        "tokenized = sentences_data['Sentence'].apply((lambda x: tokenizer.encode(x, add_special_tokens=True)))"
      ],
      "metadata": {
        "id": "tKJRv1oLohdx"
      },
      "execution_count": 15,
      "outputs": []
    },
    {
      "cell_type": "code",
      "source": [
        "from keras.preprocessing.sequence import pad_sequences"
      ],
      "metadata": {
        "id": "lrRUZjVYopmK"
      },
      "execution_count": 16,
      "outputs": []
    },
    {
      "cell_type": "code",
      "source": [
        "MAX_LEN = 64\n",
        "input_ids = pad_sequences(tokenized.values, maxlen=MAX_LEN, dtype=\"long\", truncating=\"post\", padding=\"post\")\n",
        "\n",
        "attention_masks = [[float(i != 0.0) for i in ii] for ii in input_ids]"
      ],
      "metadata": {
        "id": "UybL-DtXowhS"
      },
      "execution_count": 17,
      "outputs": []
    },
    {
      "cell_type": "code",
      "source": [
        "inputs = torch.tensor(input_ids)\n",
        "masks = torch.tensor(attention_masks)"
      ],
      "metadata": {
        "id": "wILjmVj0o2Ve"
      },
      "execution_count": 18,
      "outputs": []
    },
    {
      "cell_type": "code",
      "source": [
        "with torch.no_grad():\n",
        "    outputs = bert_model(inputs, attention_mask=masks)"
      ],
      "metadata": {
        "id": "xkfmkRrzo9Oq"
      },
      "execution_count": 19,
      "outputs": []
    },
    {
      "cell_type": "code",
      "source": [
        "final_s_embeddings = outputs.last_hidden_state"
      ],
      "metadata": {
        "id": "jL7JP9WKpAca"
      },
      "execution_count": 20,
      "outputs": []
    },
    {
      "cell_type": "code",
      "source": [
        "ar = np.array(final_s_embeddings)"
      ],
      "metadata": {
        "id": "-GNna6kopLf4"
      },
      "execution_count": 21,
      "outputs": []
    },
    {
      "cell_type": "code",
      "source": [
        "print(np.shape(ar))"
      ],
      "metadata": {
        "colab": {
          "base_uri": "https://localhost:8080/"
        },
        "id": "ewdFtoVppM9r",
        "outputId": "20d73d46-197b-4b9f-a2cc-e86663f5af2e"
      },
      "execution_count": 22,
      "outputs": [
        {
          "output_type": "stream",
          "name": "stdout",
          "text": [
            "(100, 64, 768)\n"
          ]
        }
      ]
    },
    {
      "cell_type": "markdown",
      "source": [
        "## Probing positional stat in BERT"
      ],
      "metadata": {
        "id": "3SqoEYa8LfFx"
      }
    },
    {
      "cell_type": "markdown",
      "source": [
        "Since we are interest in analysing the positional statements in BERT, we need not to operate on the full final embedding, but only in the ones that represent *spatial relationships* between entities."
      ],
      "metadata": {
        "id": "PyVylkGBLoFX"
      }
    },
    {
      "cell_type": "code",
      "source": [
        "features_list = []\n",
        "targets_list = []\n",
        "\n",
        "for index, row in sentences_data.iterrows():\n",
        "\n",
        "    inputs_phrase = tokenizer(row['Sentence'], return_tensors=\"pt\", padding=True, truncation=True, max_length=128)\n",
        "    with torch.no_grad():\n",
        "        outputs_phrase = bert_model(**inputs_phrase)\n",
        "    embedding_phrase = outputs_phrase.last_hidden_state.mean(dim=1)\n",
        "    targets_list.append(embedding_phrase)\n",
        "\n",
        "    # Processing for Entity 1\n",
        "    inputs_entity1 = tokenizer(row['Entity_1'], return_tensors=\"pt\", padding=True, truncation=True, max_length=128)\n",
        "    with torch.no_grad():\n",
        "        outputs_entity1 = bert_model(**inputs_entity1)\n",
        "    embedding_entity1 = outputs_entity1.last_hidden_state.mean(dim=1)\n",
        "\n",
        "    # Processing for Entity 2\n",
        "    inputs_entity2 = tokenizer(row['Entity_2'], return_tensors=\"pt\", padding=True, truncation=True, max_length=128)\n",
        "    with torch.no_grad():\n",
        "        outputs_entity2 = bert_model(**inputs_entity2)\n",
        "    embedding_entity2 = outputs_entity2.last_hidden_state.mean(dim=1)\n",
        "\n",
        "\n",
        "    combined_embedding = torch.cat((embedding_entity1, embedding_entity2), dim=1)\n",
        "    features_list.append(combined_embedding)\n",
        "\n",
        "\n",
        "features_tensor = torch.cat(features_list, dim=0)\n",
        "targets_tensor = torch.cat(targets_list, dim=0)"
      ],
      "metadata": {
        "id": "Yymjqu2fORve"
      },
      "execution_count": 23,
      "outputs": []
    },
    {
      "cell_type": "markdown",
      "source": [
        "## NN for matrix extraction:"
      ],
      "metadata": {
        "id": "14DelaJqLiqw"
      }
    },
    {
      "cell_type": "code",
      "source": [
        "import torch\n",
        "import torch.nn as nn\n",
        "import torch.optim as optim\n"
      ],
      "metadata": {
        "id": "G4IcxCvbsIg7"
      },
      "execution_count": 24,
      "outputs": []
    },
    {
      "cell_type": "code",
      "source": [
        "\n",
        "\n",
        "class TransformationNet(nn.Module):\n",
        "    def __init__(self, input_size, intermediate_size, output_size):\n",
        "        super(TransformationNet, self).__init__()\n",
        "        self.reducer = nn.Linear(input_size, intermediate_size)\n",
        "        self.transformer = nn.Linear(intermediate_size, output_size)\n",
        "\n",
        "    def forward(self, x):\n",
        "        x = self.reducer(x)\n",
        "        x = self.transformer(x)\n",
        "        return x\n",
        "\n",
        "\n",
        "input_size = 1536\n",
        "intermediate_size = 768\n",
        "output_size = 768\n",
        "model = TransformationNet(input_size, intermediate_size, output_size)\n",
        "\n",
        "\n"
      ],
      "metadata": {
        "id": "NtyPtUCoRx9t"
      },
      "execution_count": 25,
      "outputs": []
    },
    {
      "cell_type": "code",
      "source": [
        "\n",
        "optimizer = torch.optim.Adam(model.parameters(), lr=0.001)\n",
        "loss_fn = nn.CosineEmbeddingLoss()\n",
        "\n",
        "\n",
        "num_epochs = 50\n",
        "batch_size = 16\n",
        "\n",
        "\n",
        "dataset = torch.utils.data.TensorDataset(features_tensor, targets_tensor)\n",
        "data_loader = torch.utils.data.DataLoader(dataset, batch_size=batch_size, shuffle=True)\n",
        "\n",
        "for epoch in range(num_epochs):\n",
        "    for batch_features, batch_targets in data_loader:\n",
        "\n",
        "        outputs = model(batch_features)\n",
        "\n",
        "        loss = loss_fn(outputs, batch_targets, torch.ones(batch_targets.size(0)))\n",
        "\n",
        "\n",
        "        optimizer.zero_grad()\n",
        "        loss.backward()\n",
        "        optimizer.step()\n",
        "\n",
        "    print(f\"Epoch [{epoch+1}/{num_epochs}], Loss: {loss.item():.4f}\")\n"
      ],
      "metadata": {
        "colab": {
          "base_uri": "https://localhost:8080/"
        },
        "id": "u1cjccR9q9hS",
        "outputId": "dfe4a169-a72e-4c66-f83f-15f1b0d5c53b"
      },
      "execution_count": 26,
      "outputs": [
        {
          "output_type": "stream",
          "name": "stdout",
          "text": [
            "Epoch [1/50], Loss: 0.2028\n",
            "Epoch [2/50], Loss: 0.1736\n",
            "Epoch [3/50], Loss: 0.1444\n",
            "Epoch [4/50], Loss: 0.1017\n",
            "Epoch [5/50], Loss: 0.1248\n",
            "Epoch [6/50], Loss: 0.1218\n",
            "Epoch [7/50], Loss: 0.1272\n",
            "Epoch [8/50], Loss: 0.1058\n",
            "Epoch [9/50], Loss: 0.0658\n",
            "Epoch [10/50], Loss: 0.0990\n",
            "Epoch [11/50], Loss: 0.0834\n",
            "Epoch [12/50], Loss: 0.0745\n",
            "Epoch [13/50], Loss: 0.0701\n",
            "Epoch [14/50], Loss: 0.0798\n",
            "Epoch [15/50], Loss: 0.0729\n",
            "Epoch [16/50], Loss: 0.0982\n",
            "Epoch [17/50], Loss: 0.0591\n",
            "Epoch [18/50], Loss: 0.0776\n",
            "Epoch [19/50], Loss: 0.0558\n",
            "Epoch [20/50], Loss: 0.0455\n",
            "Epoch [21/50], Loss: 0.0485\n",
            "Epoch [22/50], Loss: 0.0365\n",
            "Epoch [23/50], Loss: 0.0621\n",
            "Epoch [24/50], Loss: 0.0453\n",
            "Epoch [25/50], Loss: 0.0338\n",
            "Epoch [26/50], Loss: 0.0500\n",
            "Epoch [27/50], Loss: 0.0716\n",
            "Epoch [28/50], Loss: 0.0574\n",
            "Epoch [29/50], Loss: 0.0416\n",
            "Epoch [30/50], Loss: 0.0274\n",
            "Epoch [31/50], Loss: 0.0340\n",
            "Epoch [32/50], Loss: 0.0744\n",
            "Epoch [33/50], Loss: 0.0291\n",
            "Epoch [34/50], Loss: 0.0768\n",
            "Epoch [35/50], Loss: 0.0328\n",
            "Epoch [36/50], Loss: 0.0358\n",
            "Epoch [37/50], Loss: 0.0375\n",
            "Epoch [38/50], Loss: 0.0296\n",
            "Epoch [39/50], Loss: 0.0296\n",
            "Epoch [40/50], Loss: 0.0459\n",
            "Epoch [41/50], Loss: 0.0546\n",
            "Epoch [42/50], Loss: 0.0352\n",
            "Epoch [43/50], Loss: 0.0306\n",
            "Epoch [44/50], Loss: 0.0438\n",
            "Epoch [45/50], Loss: 0.0429\n",
            "Epoch [46/50], Loss: 0.0351\n",
            "Epoch [47/50], Loss: 0.0352\n",
            "Epoch [48/50], Loss: 0.0319\n",
            "Epoch [49/50], Loss: 0.0376\n",
            "Epoch [50/50], Loss: 0.0295\n"
          ]
        }
      ]
    },
    {
      "cell_type": "code",
      "source": [
        "# Extract the weights from the linear layer of the model\n",
        "transformation_matrix = model.transformer.weight.detach().numpy()\n"
      ],
      "metadata": {
        "id": "539AL0nYsNJN"
      },
      "execution_count": 27,
      "outputs": []
    },
    {
      "cell_type": "code",
      "source": [
        "test_df = pd.read_csv('/content/drive/MyDrive/BERT/test_bert.csv')"
      ],
      "metadata": {
        "id": "wPFteHb_s_dC"
      },
      "execution_count": 28,
      "outputs": []
    },
    {
      "cell_type": "code",
      "source": [
        "from sklearn.metrics.pairwise import cosine_similarity\n",
        "\n",
        "test_features_list = []\n",
        "test_targets_list = []\n",
        "\n",
        "\n",
        "for index, row in test_df.iterrows():\n",
        "\n",
        "    inputs_phrase = tokenizer(row['Sentence'], return_tensors=\"pt\", padding=True, truncation=True, max_length=128)\n",
        "    with torch.no_grad():\n",
        "        outputs_phrase = bert_model(**inputs_phrase)\n",
        "    embedding_phrase = outputs_phrase.last_hidden_state.mean(dim=1)\n",
        "    test_targets_list.append(embedding_phrase)\n",
        "\n",
        "\n",
        "    inputs_entity1 = tokenizer(row['Entity_1'], return_tensors=\"pt\", padding=True, truncation=True, max_length=128)\n",
        "    with torch.no_grad():\n",
        "        outputs_entity1 = bert_model(**inputs_entity1)\n",
        "    embedding_entity1 = outputs_entity1.last_hidden_state.mean(dim=1)\n",
        "\n",
        "\n",
        "    inputs_entity2 = tokenizer(row['Entity_2'], return_tensors=\"pt\", padding=True, truncation=True, max_length=128)\n",
        "    with torch.no_grad():\n",
        "        outputs_entity2 = bert_model(**inputs_entity2)\n",
        "    embedding_entity2 = outputs_entity2.last_hidden_state.mean(dim=1)\n",
        "\n",
        "\n",
        "    combined_embedding = torch.cat((embedding_entity1, embedding_entity2), dim=1)\n",
        "    test_features_list.append(combined_embedding)\n",
        "\n",
        "\n",
        "features_tensor = torch.cat(test_features_list, dim=0)\n",
        "targets_tensor = torch.cat(test_targets_list, dim=0)\n",
        "\n",
        "\n",
        "with torch.no_grad():\n",
        "    transformed_vectors = model(features_tensor)\n",
        "\n",
        "transformed_vectors_np = transformed_vectors.numpy()\n",
        "targets_tensor_np = targets_tensor.numpy()\n",
        "\n",
        "similarities = cosine_similarity(transformed_vectors_np, targets_tensor_np)\n",
        "\n",
        "diagonal_similarities = np.diag(similarities)\n",
        "\n",
        "\n",
        "similarity_df = pd.DataFrame(diagonal_similarities, columns=['Cosine Similarity'])\n",
        "\n",
        "\n",
        "average_similarity = similarity_df['Cosine Similarity'].mean()\n",
        "print(\"Average Cosine Similarity:\", average_similarity)"
      ],
      "metadata": {
        "colab": {
          "base_uri": "https://localhost:8080/"
        },
        "id": "S89c8xsXxjZP",
        "outputId": "a1afb573-eab2-4b62-faef-cc53cb8ba60e"
      },
      "execution_count": 29,
      "outputs": [
        {
          "output_type": "stream",
          "name": "stdout",
          "text": [
            "Average Cosine Similarity: 0.91630125\n"
          ]
        }
      ]
    },
    {
      "cell_type": "markdown",
      "source": [
        "### Plotting"
      ],
      "metadata": {
        "id": "8iQKHVhT9y5T"
      }
    },
    {
      "cell_type": "code",
      "source": [
        "import matplotlib.pyplot as plt\n",
        "from sklearn.manifold import TSNE\n",
        "\n",
        "\n",
        "bert_embeddings = targets_tensor.detach().numpy()\n",
        "transformed_embeddings = transformed_vectors.detach().numpy()\n",
        "\n",
        "\n",
        "all_vectors = np.concatenate([bert_embeddings, transformed_embeddings])\n",
        "\n",
        "\n",
        "tsne = TSNE(n_components=2, random_state=0)\n",
        "reduced_vectors = tsne.fit_transform(all_vectors)\n",
        "\n",
        "\n",
        "reduced_bert_embeddings = reduced_vectors[:len(bert_embeddings)]\n",
        "reduced_transformed_embeddings = reduced_vectors[len(bert_embeddings):]\n",
        "\n",
        "\n",
        "plt.figure(figsize=(10, 10))\n",
        "plt.scatter(reduced_bert_embeddings[:, 0], reduced_bert_embeddings[:, 1], color='blue', label='BERT Embeddings')\n",
        "plt.scatter(reduced_transformed_embeddings[:, 0], reduced_transformed_embeddings[:, 1], color='red', label='Transformed Vectors')\n",
        "plt.legend()\n",
        "plt.title('t-SNE visualization of BERT Embeddings and Transformed Vectors')\n",
        "plt.xlabel('t-SNE Dimension 1')\n",
        "plt.ylabel('t-SNE Dimension 2')\n",
        "plt.show()\n"
      ],
      "metadata": {
        "colab": {
          "base_uri": "https://localhost:8080/",
          "height": 872
        },
        "id": "S2JQuhfj9x8_",
        "outputId": "7fe07bf7-a0e1-4143-d866-04fbff26528a"
      },
      "execution_count": 30,
      "outputs": [
        {
          "output_type": "display_data",
          "data": {
            "text/plain": [
              "<Figure size 1000x1000 with 1 Axes>"
            ],
            "image/png": "[encoded data removed]"
          },
          "metadata": {}
        }
      ]
    },
    {
      "cell_type": "code",
      "source": [
        "import matplotlib.pyplot as plt\n",
        "\n",
        "\n",
        "indices = range(len(diagonal_similarities))\n",
        "plt.figure(figsize=(14, 7))\n",
        "plt.plot(indices, diagonal_similarities, 'o', label='Cosine Similarity')\n",
        "plt.title('Cosine Similarity for Each Vector Pair')\n",
        "plt.xlabel('Index of Vector Pair')\n",
        "plt.ylabel('Cosine Similarity')\n",
        "plt.legend()\n",
        "plt.show()\n"
      ],
      "metadata": {
        "colab": {
          "base_uri": "https://localhost:8080/",
          "height": 641
        },
        "id": "jkOgBoTn_ZOC",
        "outputId": "36d97eba-16c9-4461-b41f-8c0a832c6151"
      },
      "execution_count": 31,
      "outputs": [
        {
          "output_type": "display_data",
          "data": {
            "text/plain": [
              "<Figure size 1400x700 with 1 Axes>"
            ],
            "image/png": "[encoded data removed]"
          },
          "metadata": {}
        }
      ]
    },
    {
      "cell_type": "markdown",
      "source": [
        "## Inverting the Matrix:"
      ],
      "metadata": {
        "id": "8TKguOEI2_hl"
      }
    },
    {
      "cell_type": "code",
      "source": [
        "np.shape(transformation_matrix)"
      ],
      "metadata": {
        "colab": {
          "base_uri": "https://localhost:8080/"
        },
        "id": "R6Y66FlgBJcw",
        "outputId": "69d92688-1c32-4b82-ed01-aa9869209f5a"
      },
      "execution_count": 32,
      "outputs": [
        {
          "output_type": "execute_result",
          "data": {
            "text/plain": [
              "(768, 768)"
            ]
          },
          "metadata": {},
          "execution_count": 32
        }
      ]
    },
    {
      "cell_type": "markdown",
      "source": [
        "## Testing inversion:"
      ],
      "metadata": {
        "id": "7p3ccK2jFk6R"
      }
    },
    {
      "cell_type": "code",
      "source": [
        "# Since the NN arichtechture was designed for obtaining a square matrix, we\n",
        "# can easily invert it:\n",
        "\n",
        "inverse_matrix = np.linalg.inv(transformation_matrix)\n",
        "#inverse_matrix = transformation_matrix * -1\n"
      ],
      "metadata": {
        "id": "iWdD1wh7x4AA"
      },
      "execution_count": 36,
      "outputs": []
    },
    {
      "cell_type": "code",
      "source": [
        "# Calculate the condition number\n",
        "cond_number = np.linalg.cond(transformation_matrix)\n",
        "print(\"Condition number of the matrix:\", cond_number)\n",
        "\n",
        "# Inspect the result\n",
        "print(\"Resulting matrix:\", result)\n",
        "\n",
        "# Check if using higher precision helps\n",
        "transformation_matrix = np.array(transformation_matrix, dtype=np.float64)\n",
        "inverse_matrix = np.linalg.inv(transformation_matrix)\n",
        "result = transformation_matrix.dot(inverse_matrix)\n",
        "is_identity_high_precision = np.allclose(result, np.eye(transformation_matrix.shape[0]), atol=1e-8)\n",
        "print(\"Is the product an identity matrix with higher precision?\", is_identity_high_precision)\n"
      ],
      "metadata": {
        "colab": {
          "base_uri": "https://localhost:8080/"
        },
        "id": "VSttxbgY4nmQ",
        "outputId": "ebc8fd31-2aca-466c-9e02-bf6120007b30"
      },
      "execution_count": 37,
      "outputs": [
        {
          "output_type": "stream",
          "name": "stdout",
          "text": [
            "Condition number of the matrix: 129404.414\n",
            "Resulting matrix: [[ 1.0000029e+00 -2.8610229e-06  3.3378601e-06 ...  7.1525574e-07\n",
            "   4.7683716e-07  7.6293945e-06]\n",
            " [ 3.8146973e-06  1.0000057e+00 -1.9073486e-06 ...  2.3841858e-07\n",
            "  -1.9073486e-06  3.8146973e-06]\n",
            " [ 0.0000000e+00  1.9073486e-06  1.0000062e+00 ... -1.0728836e-06\n",
            "  -2.3841858e-07  9.5367432e-06]\n",
            " ...\n",
            " [-3.8146973e-06  9.5367432e-07 -1.9073486e-06 ...  1.0000005e+00\n",
            "   0.0000000e+00 -7.6293945e-06]\n",
            " [-1.3351440e-05  7.6293945e-06 -5.7220459e-06 ...  9.5367432e-07\n",
            "   1.0000029e+00  3.8146973e-05]\n",
            " [ 1.3351440e-05 -7.6293945e-06 -2.8610229e-06 ... -9.5367432e-07\n",
            "   9.5367432e-07  1.0000038e+00]]\n",
            "Is the product an identity matrix with higher precision? True\n"
          ]
        }
      ]
    },
    {
      "cell_type": "markdown",
      "source": [
        "### Replacing weights in NN: process new entities and measure similarity with sentence"
      ],
      "metadata": {
        "id": "PFaQzIwZLXyT"
      }
    },
    {
      "cell_type": "code",
      "source": [
        "right_data = pd.read_csv('/content/drive/MyDrive/BERT/right_ofData - Sheet1.csv')"
      ],
      "metadata": {
        "id": "u7hio-_jA7uB"
      },
      "execution_count": 38,
      "outputs": []
    },
    {
      "cell_type": "markdown",
      "source": [
        "## Testing if the NN with the new weigh matrix (symmetrical) produces the embeddings similar to BERT for the same spatial relationship:"
      ],
      "metadata": {
        "id": "CMHWktHo6avV"
      }
    },
    {
      "cell_type": "code",
      "source": [
        "import torch\n",
        "from transformers import BertTokenizer, BertModel\n",
        "import pandas as pd\n",
        "from sklearn.metrics.pairwise import cosine_similarity\n",
        "\n",
        "\n",
        "tokenizer = BertTokenizer.from_pretrained('bert-base-uncased')\n",
        "bert_model = BertModel.from_pretrained('bert-base-uncased')\n",
        "\n",
        "\n",
        "right_features_list = []\n",
        "right_targets_list = []\n",
        "\n",
        "reduction_layer = nn.Linear(1536, 768)\n",
        "\n",
        "for index, row in right_data.iterrows():\n",
        "\n",
        "    inputs_phrase = tokenizer(row['Sentence'], return_tensors=\"pt\", padding=True, truncation=True, max_length=128)\n",
        "    with torch.no_grad():\n",
        "        outputs_phrase = bert_model(**inputs_phrase)\n",
        "    embedding_phrase = outputs_phrase.last_hidden_state.mean(dim=1)\n",
        "    right_targets_list.append(embedding_phrase)\n",
        "\n",
        "    # Processing for Entity 1\n",
        "    inputs_entity1 = tokenizer(row['Entity_1'], return_tensors=\"pt\", padding=True, truncation=True, max_length=128)\n",
        "    with torch.no_grad():\n",
        "        outputs_entity1 = bert_model(**inputs_entity1)\n",
        "    embedding_entity1 = outputs_entity1.last_hidden_state.mean(dim=1)\n",
        "\n",
        "    # Processing for Entity 2\n",
        "    inputs_entity2 = tokenizer(row['Entity_2'], return_tensors=\"pt\", padding=True, truncation=True, max_length=128)\n",
        "    with torch.no_grad():\n",
        "        outputs_entity2 = bert_model(**inputs_entity2)\n",
        "    embedding_entity2 = outputs_entity2.last_hidden_state.mean(dim=1)\n",
        "\n",
        "    combined_embedding = torch.cat((embedding_entity1, embedding_entity2), dim=1)\n",
        "\n",
        "\n",
        "    reduced_embedding = reduction_layer(combined_embedding)\n",
        "\n",
        "    transformed_embedding = torch.matmul(reduced_embedding, torch.tensor(inverse_matrix, dtype=torch.float))\n",
        "\n",
        "    right_features_list.append(transformed_embedding)\n",
        "    right_targets_list.append(embedding_phrase)\n",
        "\n",
        "\n",
        "right_features_tensor = torch.stack(right_features_list)\n",
        "right_targets_tensor = torch.stack(right_targets_list)\n",
        "\n",
        "right_features_2d = right_features_tensor.squeeze().detach().numpy()\n",
        "right_targets_2d = right_targets_tensor.squeeze().detach().numpy()\n",
        "\n",
        "cos_similarities = cosine_similarity(right_features_2d, right_targets_2d)\n",
        "\n",
        "\n",
        "diagonal_similarities = np.diag(cos_similarities)\n",
        "average_similarity = np.mean(diagonal_similarities)\n",
        "print(f\"Average Cosine Similarity: {average_similarity:.4f}\")\n"
      ],
      "metadata": {
        "colab": {
          "base_uri": "https://localhost:8080/"
        },
        "id": "HnZut0w16agb",
        "outputId": "fd9fc162-a27f-45d1-b018-5dc1acafb6f8"
      },
      "execution_count": 39,
      "outputs": [
        {
          "output_type": "stream",
          "name": "stdout",
          "text": [
            "Average Cosine Similarity: 0.0052\n"
          ]
        }
      ]
    }
  ]
}